{
 "cells": [
  {
   "cell_type": "code",
   "execution_count": 9,
   "id": "fe6cf0ef",
   "metadata": {},
   "outputs": [],
   "source": [
    "import scanpy as sc\n",
    "import pandas as pd \n",
    "import numpy as np\n",
    "import seaborn as sns\n",
    "\n",
    "from scipy.stats import pearsonr\n",
    "\n",
    "from sklearn.linear_model import ElasticNetCV, RidgeCV, LassoCV\n",
    "from sklearn.model_selection import train_test_split\n",
    "from sklearn.model_selection import cross_validate, KFold\n",
    "from sklearn.metrics import make_scorer, r2_score"
   ]
  },
  {
   "cell_type": "code",
   "execution_count": 10,
   "id": "9c0b3662",
   "metadata": {},
   "outputs": [],
   "source": [
    "import sys\n",
    "import os\n",
    "from importlib import reload\n",
    "\n",
    "# Add the path of your package\n",
    "package_path = os.path.abspath(\"/Genomics/pritykinlab/tamjeed/github_packages/GlossPath/\")\n",
    "sys.path.insert(0, package_path)"
   ]
  },
  {
   "cell_type": "code",
   "execution_count": 11,
   "id": "4cdd0ed9",
   "metadata": {},
   "outputs": [],
   "source": [
    "import matplotlib.pyplot as plt"
   ]
  },
  {
   "cell_type": "code",
   "execution_count": 12,
   "id": "91079fb6",
   "metadata": {},
   "outputs": [],
   "source": [
    "import pickle"
   ]
  },
  {
   "cell_type": "code",
   "execution_count": 17,
   "id": "94efc0ad",
   "metadata": {},
   "outputs": [],
   "source": [
    "og_adata = sc.read_h5ad('../joint_notebooks/datasets/lipstic_tumor_data_aug_11_2024.h5ad')"
   ]
  },
  {
   "cell_type": "code",
   "execution_count": 14,
   "id": "b2580110",
   "metadata": {},
   "outputs": [],
   "source": [
    "from scipy.sparse import csr_matrix"
   ]
  },
  {
   "cell_type": "code",
   "execution_count": 15,
   "id": "f752c92c",
   "metadata": {},
   "outputs": [],
   "source": [
    "with open('../pathway_computations/cd40neighbors.pickle', 'rb') as handle:\n",
    "    cd40neighbors = pickle.load(handle)"
   ]
  },
  {
   "cell_type": "code",
   "execution_count": 56,
   "id": "5db82942",
   "metadata": {},
   "outputs": [],
   "source": [
    "with open('../pathway_computations/cd40_filtered.pickle', 'rb') as handle:\n",
    "    cd40_filtered_neighbors = pickle.load(handle)"
   ]
  },
  {
   "cell_type": "code",
   "execution_count": 55,
   "id": "130abe8d",
   "metadata": {},
   "outputs": [
    {
     "name": "stdout",
     "output_type": "stream",
     "text": [
      "0\n",
      "1.0\n",
      "1\n",
      "1.0\n",
      "2\n",
      "1.0\n",
      "3\n",
      "1.0\n",
      "4\n",
      "1.0\n",
      "5\n",
      "1.0\n",
      "6\n",
      "1.0\n",
      "7\n",
      "1.0\n",
      "8\n",
      "1.0\n",
      "9\n",
      "1.0\n"
     ]
    }
   ],
   "source": [
    "for i in range(10):\n",
    "    print(i)\n",
    "    adata = og_adata.copy()\n",
    "    adata_df = adata.to_df().copy()\n",
    "    cd40_df = adata_df[adata_df.columns.intersection(cd40_filtered_neighbors['cd40_f_in'])]\n",
    "\n",
    "    np.random.seed(i)\n",
    "    random_factors = np.random.uniform(0.5, 1.5, size=(cd40_df.shape[0], 1))\n",
    "    random_factors.flatten()\n",
    "\n",
    "    result_df = np.round(cd40_df * random_factors).astype(int).astype(float)\n",
    "\n",
    "    adata_df[result_df.columns] = result_df\n",
    "\n",
    "    result_y = np.round(y * random_factors.flatten()).astype(int).astype(float)\n",
    "    result_y = np.where(y >= 1, np.maximum(result_y, 1), result_y)\n",
    "\n",
    "    print(np.percentile(result_y, 5))\n",
    "\n",
    "    adata.obs['biotin_raw_perturbed'] = result_y\n",
    "\n",
    "    csr_matrix(adata_df)\n",
    "    adata.X = csr_matrix(adata_df)\n",
    "\n",
    "    adata.write('../joint_notebooks/datasets/{}_lipstic_tumor_data_perturbed_filtered_v2_oct_25_2024.h5ad'.format(i))"
   ]
  },
  {
   "cell_type": "code",
   "execution_count": null,
   "id": "148ff924",
   "metadata": {},
   "outputs": [],
   "source": []
  }
 ],
 "metadata": {
  "kernelspec": {
   "display_name": "Python 3 (ipykernel)",
   "language": "python",
   "name": "python3"
  },
  "language_info": {
   "codemirror_mode": {
    "name": "ipython",
    "version": 3
   },
   "file_extension": ".py",
   "mimetype": "text/x-python",
   "name": "python",
   "nbconvert_exporter": "python",
   "pygments_lexer": "ipython3",
   "version": "3.9.16"
  }
 },
 "nbformat": 4,
 "nbformat_minor": 5
}
