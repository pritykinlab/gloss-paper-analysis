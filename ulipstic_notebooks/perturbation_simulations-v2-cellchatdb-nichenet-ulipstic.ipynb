{
 "cells": [
  {
   "cell_type": "code",
   "execution_count": 1,
   "id": "fe6cf0ef",
   "metadata": {},
   "outputs": [],
   "source": [
    "import scanpy as sc\n",
    "import pandas as pd \n",
    "import numpy as np\n",
    "import seaborn as sns\n",
    "\n",
    "from scipy.stats import pearsonr\n",
    "\n",
    "from sklearn.linear_model import ElasticNetCV, RidgeCV, LassoCV\n",
    "from sklearn.model_selection import train_test_split\n",
    "from sklearn.model_selection import cross_validate, KFold\n",
    "from sklearn.metrics import make_scorer, r2_score"
   ]
  },
  {
   "cell_type": "code",
   "execution_count": 2,
   "id": "9c0b3662",
   "metadata": {},
   "outputs": [],
   "source": [
    "import sys\n",
    "import os\n",
    "from importlib import reload\n",
    "\n",
    "# Add the path of your package\n",
    "package_path = os.path.abspath(\"/Genomics/pritykinlab/tamjeed/github_packages/GlossPath/\")\n",
    "sys.path.insert(0, package_path)"
   ]
  },
  {
   "cell_type": "code",
   "execution_count": 3,
   "id": "4cdd0ed9",
   "metadata": {},
   "outputs": [],
   "source": [
    "import matplotlib.pyplot as plt"
   ]
  },
  {
   "cell_type": "code",
   "execution_count": 4,
   "id": "91079fb6",
   "metadata": {},
   "outputs": [],
   "source": [
    "import pickle"
   ]
  },
  {
   "cell_type": "code",
   "execution_count": 5,
   "id": "94efc0ad",
   "metadata": {},
   "outputs": [],
   "source": [
    "og_adata = sc.read_h5ad('../joint_notebooks/datasets/gut_data_aug_11_2024.h5ad')"
   ]
  },
  {
   "cell_type": "code",
   "execution_count": 6,
   "id": "b2580110",
   "metadata": {},
   "outputs": [],
   "source": [
    "from scipy.sparse import csr_matrix"
   ]
  },
  {
   "cell_type": "code",
   "execution_count": 7,
   "id": "f752c92c",
   "metadata": {},
   "outputs": [],
   "source": [
    "with open('../pathway_computations/cellchatdb.pickle', 'rb') as handle:\n",
    "    cellchatdb = pickle.load(handle)"
   ]
  },
  {
   "cell_type": "code",
   "execution_count": 12,
   "id": "f043388f",
   "metadata": {},
   "outputs": [],
   "source": [
    "with open('../pathway_computations/to_genesets_nn.pickle', 'rb') as handle:\n",
    "    to_genesets = pickle.load(handle)"
   ]
  },
  {
   "cell_type": "code",
   "execution_count": 9,
   "id": "6d760f10",
   "metadata": {},
   "outputs": [],
   "source": [
    "with open('../pathway_computations/combined_cellchatdb_nn_signaling.pickle', 'rb') as handle:\n",
    "    combined_c_n = pickle.load(handle)"
   ]
  },
  {
   "cell_type": "code",
   "execution_count": 41,
   "id": "b92593c7",
   "metadata": {},
   "outputs": [],
   "source": [
    "with open('../pathway_computations/combined_cellchatdb_nn_signaling_relaxed.pickle', 'rb') as handle:\n",
    "    combined_c_n_relaxed = pickle.load(handle)"
   ]
  },
  {
   "cell_type": "markdown",
   "id": "18bc029a",
   "metadata": {},
   "source": [
    "## creating 10 different multiple permutations"
   ]
  },
  {
   "cell_type": "code",
   "execution_count": 28,
   "id": "351d3617",
   "metadata": {},
   "outputs": [
    {
     "name": "stdout",
     "output_type": "stream",
     "text": [
      "1.0\n"
     ]
    }
   ],
   "source": [
    "adata = og_adata.copy()\n",
    "y = adata.obs['raw_biotin']\n",
    "adata_df = adata.to_df().copy()\n",
    "cd40_df = adata_df[adata_df.columns.intersection(cd40neighbors['cd40_and_neighbors'])]\n",
    "\n",
    "np.random.seed(0)\n",
    "random_factors = np.random.uniform(0.5, 1.5, size=(cd40_df.shape[0], 1))\n",
    "random_factors.flatten()\n",
    "\n",
    "result_df = np.round(cd40_df * random_factors).astype(int).astype(float)\n",
    "\n",
    "adata_df[result_df.columns] = result_df\n",
    "\n",
    "result_y = np.round(y * random_factors.flatten()).astype(int).astype(float)\n",
    "result_y = np.where(y >= 1, np.maximum(result_y, 1), result_y)\n",
    "\n",
    "print(np.percentile(result_y, 5))\n",
    "\n",
    "adata.obs['biotin_raw_perturbed'] = result_y\n",
    "\n",
    "csr_matrix(adata_df)\n",
    "adata.X = csr_matrix(adata_df)"
   ]
  },
  {
   "cell_type": "code",
   "execution_count": null,
   "id": "23bb3c8e",
   "metadata": {},
   "outputs": [],
   "source": [
    "adata = og_adata.copy()\n",
    "adata_df = adata.to_df().copy()\n",
    "pert_df = adata_df[adata_df.columns.intersection(combined_c_n['combined_c_n'])]\n",
    "\n",
    "np.random.seed(i)\n",
    "random_factors = np.random.uniform(0.5, 1.5, size=(pert_df.shape[0], 1))\n",
    "random_factors.flatten()\n",
    "\n",
    "result_df = np.round(pert_df * random_factors).astype(int).astype(float)\n",
    "\n",
    "adata_df[result_df.columns] = result_df\n",
    "\n",
    "result_y = np.round(y * random_factors.flatten()).astype(int).astype(float)\n",
    "result_y = np.where(y >= 1, np.maximum(result_y, 1), result_y)\n",
    "\n",
    "print(np.percentile(result_y, 5))\n",
    "\n",
    "adata.obs['biotin_raw_perturbed'] = result_y\n",
    "\n",
    "csr_matrix(adata_df)\n",
    "adata.X = csr_matrix(adata_df)"
   ]
  },
  {
   "cell_type": "code",
   "execution_count": 11,
   "id": "9f29db24",
   "metadata": {},
   "outputs": [
    {
     "name": "stdout",
     "output_type": "stream",
     "text": [
      "0\n",
      "15.0\n",
      "1\n",
      "14.0\n",
      "2\n",
      "14.0\n",
      "3\n",
      "14.0\n",
      "4\n",
      "14.0\n",
      "5\n",
      "14.0\n",
      "6\n",
      "14.0\n",
      "7\n",
      "14.0\n",
      "8\n",
      "14.0\n",
      "9\n",
      "14.0\n"
     ]
    }
   ],
   "source": [
    "y = og_adata.obs['raw_biotin']\n",
    "for i in range(10):\n",
    "    print(i)\n",
    "    adata = og_adata.copy()\n",
    "    adata_df = adata.to_df().copy()\n",
    "    pert_df = adata_df[adata_df.columns.intersection(combined_c_n['combined_c_n'])]\n",
    "\n",
    "    np.random.seed(i)\n",
    "    random_factors = np.random.uniform(0.5, 1.5, size=(pert_df.shape[0], 1))\n",
    "    random_factors.flatten()\n",
    "\n",
    "    result_df = np.round(pert_df * random_factors).astype(int).astype(float)\n",
    "\n",
    "    adata_df[result_df.columns] = result_df\n",
    "\n",
    "    result_y = np.round(y * random_factors.flatten()).astype(int).astype(float)\n",
    "    result_y = np.where(y >= 1, np.maximum(result_y, 1), result_y)\n",
    "\n",
    "    print(np.percentile(result_y, 5))\n",
    "\n",
    "    adata.obs['biotin_raw_perturbed'] = result_y\n",
    "\n",
    "    csr_matrix(adata_df)\n",
    "    adata.X = csr_matrix(adata_df)\n",
    "\n",
    "    adata.write('../joint_notebooks/datasets/{}_gut_data_perturbed_combined_c_n_v2_oct_26_2024.h5ad'.format(i))"
   ]
  },
  {
   "cell_type": "code",
   "execution_count": 17,
   "id": "c6c62aca",
   "metadata": {},
   "outputs": [
    {
     "name": "stdout",
     "output_type": "stream",
     "text": [
      "0\n",
      "15.0\n",
      "1\n",
      "14.0\n",
      "2\n",
      "14.0\n",
      "3\n",
      "14.0\n",
      "4\n",
      "14.0\n",
      "5\n",
      "14.0\n",
      "6\n",
      "14.0\n",
      "7\n",
      "14.0\n",
      "8\n",
      "14.0\n",
      "9\n",
      "14.0\n"
     ]
    }
   ],
   "source": [
    "y = og_adata.obs['raw_biotin']\n",
    "for i in range(10):\n",
    "    print(i)\n",
    "    adata = og_adata.copy()\n",
    "    adata_df = adata.to_df().copy()\n",
    "    pert_df = adata_df[adata_df.columns.intersection(to_genesets['to_Itgae'])]\n",
    "\n",
    "    np.random.seed(i)\n",
    "    random_factors = np.random.uniform(0.5, 1.5, size=(pert_df.shape[0], 1))\n",
    "    random_factors.flatten()\n",
    "\n",
    "    result_df = np.round(pert_df * random_factors).astype(int).astype(float)\n",
    "\n",
    "    adata_df[result_df.columns] = result_df\n",
    "\n",
    "    result_y = np.round(y * random_factors.flatten()).astype(int).astype(float)\n",
    "    result_y = np.where(y >= 1, np.maximum(result_y, 1), result_y)\n",
    "\n",
    "    print(np.percentile(result_y, 5))\n",
    "\n",
    "    adata.obs['biotin_raw_perturbed'] = result_y\n",
    "\n",
    "    csr_matrix(adata_df)\n",
    "    adata.X = csr_matrix(adata_df)\n",
    "\n",
    "    adata.write('../joint_notebooks/datasets/{}_gut_data_perturbed_itgae_v2_oct_26_2024.h5ad'.format(i))"
   ]
  },
  {
   "cell_type": "markdown",
   "id": "b5cd3f97",
   "metadata": {},
   "source": [
    "## now do the same for lcmv sys and lcmv ln"
   ]
  },
  {
   "cell_type": "code",
   "execution_count": 35,
   "id": "6e68d9b0",
   "metadata": {},
   "outputs": [],
   "source": [
    "og_adata = sc.read_h5ad('../joint_notebooks/datasets/lcmv_sys_data_aug_11_2024.h5ad')"
   ]
  },
  {
   "cell_type": "code",
   "execution_count": 36,
   "id": "0bf3d16d",
   "metadata": {},
   "outputs": [
    {
     "name": "stdout",
     "output_type": "stream",
     "text": [
      "0\n",
      "2.0\n",
      "1\n",
      "2.0\n",
      "2\n",
      "2.0\n",
      "3\n",
      "2.0\n",
      "4\n",
      "2.0\n",
      "5\n",
      "2.0\n",
      "6\n",
      "2.0\n",
      "7\n",
      "2.0\n",
      "8\n",
      "2.0\n",
      "9\n",
      "2.0\n"
     ]
    }
   ],
   "source": [
    "for i in range(10):\n",
    "    print(i)\n",
    "    all_adata = og_adata.copy()\n",
    "    all_adata_df = all_adata.to_df().copy()\n",
    "    all_y = og_adata.obs['biotin_interaction'].copy()\n",
    "    adata = all_adata[~all_adata.obs['donor']].copy()\n",
    "    adata_df = adata.to_df().copy()\n",
    "    y = all_y[adata.obs.index]\n",
    "    \n",
    "    pert_df = adata_df[adata_df.columns.intersection(combined_c_n['combined_c_n'])]\n",
    "\n",
    "    np.random.seed(i)\n",
    "    random_factors = np.random.uniform(0.5, 1.5, size=(pert_df.shape[0], 1))\n",
    "    random_factors.flatten()\n",
    "\n",
    "    result_df = np.round(pert_df * random_factors).astype(int).astype(float)\n",
    "\n",
    "    adata_df[result_df.columns] = result_df\n",
    "\n",
    "    result_y = np.round(y * random_factors.flatten()).astype(int).astype(float)\n",
    "    result_y = np.where(y >= 1, np.maximum(result_y, 1), result_y)\n",
    "\n",
    "    print(np.percentile(result_y, 5))\n",
    "\n",
    "    adata.obs['biotin_raw_perturbed'] = result_y\n",
    "    \n",
    "    all_adata_df.loc[adata_df.index, adata_df.columns] = adata_df.copy()\n",
    "    \n",
    "    all_y[adata.obs.index] = result_y.copy()\n",
    "    \n",
    "    all_adata.obs['biotin_raw_perturbed'] = all_y.copy()\n",
    "    all_adata.X = csr_matrix(all_adata_df)\n",
    "    \n",
    "    all_adata.write('../joint_notebooks/datasets/{}_lcmv_sys_data_perturbed_combined_c_n_v2_oct_26_2024.h5ad'.format(i))"
   ]
  },
  {
   "cell_type": "code",
   "execution_count": 37,
   "id": "0b6f4a62",
   "metadata": {},
   "outputs": [
    {
     "name": "stdout",
     "output_type": "stream",
     "text": [
      "0\n",
      "1.0\n",
      "1\n",
      "1.0\n",
      "2\n",
      "1.0\n",
      "3\n",
      "1.0\n",
      "4\n",
      "1.0\n",
      "5\n",
      "1.0\n",
      "6\n",
      "1.0\n",
      "7\n",
      "1.0\n",
      "8\n",
      "1.0\n",
      "9\n",
      "1.0\n"
     ]
    }
   ],
   "source": [
    "og_adata = sc.read_h5ad('../joint_notebooks/datasets/lcmv_ln_data_aug_11_2024.h5ad')\n",
    "\n",
    "for i in range(10):\n",
    "    print(i)\n",
    "    all_adata = og_adata.copy()\n",
    "    all_adata_df = all_adata.to_df().copy()\n",
    "    all_y = og_adata.obs['biotin_interaction'].copy()\n",
    "    adata = all_adata[~all_adata.obs['donor']].copy()\n",
    "    adata_df = adata.to_df().copy()\n",
    "    y = all_y[adata.obs.index]\n",
    "    \n",
    "    pert_df = adata_df[adata_df.columns.intersection(combined_c_n['combined_c_n'])]\n",
    "\n",
    "    np.random.seed(i)\n",
    "    random_factors = np.random.uniform(0.5, 1.5, size=(pert_df.shape[0], 1))\n",
    "    random_factors.flatten()\n",
    "\n",
    "    result_df = np.round(pert_df * random_factors).astype(int).astype(float)\n",
    "\n",
    "    adata_df[result_df.columns] = result_df\n",
    "\n",
    "    result_y = np.round(y * random_factors.flatten()).astype(int).astype(float)\n",
    "    result_y = np.where(y >= 1, np.maximum(result_y, 1), result_y)\n",
    "\n",
    "    print(np.percentile(result_y, 5))\n",
    "\n",
    "    adata.obs['biotin_raw_perturbed'] = result_y\n",
    "    \n",
    "    all_adata_df.loc[adata_df.index, adata_df.columns] = adata_df.copy()\n",
    "    \n",
    "    all_y[adata.obs.index] = result_y.copy()\n",
    "    \n",
    "    all_adata.obs['biotin_raw_perturbed'] = all_y.copy()\n",
    "    all_adata.X = csr_matrix(all_adata_df)\n",
    "    \n",
    "    all_adata.write('../joint_notebooks/datasets/{}_lcmv_ln_data_perturbed_combined_c_n_v2_oct_26_2024.h5ad'.format(i))"
   ]
  },
  {
   "cell_type": "markdown",
   "id": "943c1642",
   "metadata": {},
   "source": [
    "## relaxed thresholds"
   ]
  },
  {
   "cell_type": "code",
   "execution_count": 39,
   "id": "6db2fbfb",
   "metadata": {},
   "outputs": [],
   "source": [
    "og_adata = sc.read_h5ad('../joint_notebooks/datasets/gut_data_aug_11_2024.h5ad')"
   ]
  },
  {
   "cell_type": "code",
   "execution_count": 42,
   "id": "682910c9",
   "metadata": {},
   "outputs": [
    {
     "name": "stdout",
     "output_type": "stream",
     "text": [
      "0\n",
      "15.0\n",
      "1\n",
      "14.0\n",
      "2\n",
      "14.0\n",
      "3\n",
      "14.0\n",
      "4\n",
      "14.0\n",
      "5\n",
      "14.0\n",
      "6\n",
      "14.0\n",
      "7\n",
      "14.0\n",
      "8\n",
      "14.0\n",
      "9\n",
      "14.0\n"
     ]
    }
   ],
   "source": [
    "y = og_adata.obs['raw_biotin']\n",
    "for i in range(10):\n",
    "    print(i)\n",
    "    adata = og_adata.copy()\n",
    "    adata_df = adata.to_df().copy()\n",
    "    pert_df = adata_df[adata_df.columns.intersection(combined_c_n_relaxed['combined_c_n_5'])]\n",
    "\n",
    "    np.random.seed(i)\n",
    "    random_factors = np.random.uniform(0.5, 1.5, size=(pert_df.shape[0], 1))\n",
    "    random_factors.flatten()\n",
    "\n",
    "    result_df = np.round(pert_df * random_factors).astype(int).astype(float)\n",
    "\n",
    "    adata_df[result_df.columns] = result_df\n",
    "\n",
    "    result_y = np.round(y * random_factors.flatten()).astype(int).astype(float)\n",
    "    result_y = np.where(y >= 1, np.maximum(result_y, 1), result_y)\n",
    "\n",
    "    print(np.percentile(result_y, 5))\n",
    "\n",
    "    adata.obs['biotin_raw_perturbed'] = result_y\n",
    "\n",
    "    csr_matrix(adata_df)\n",
    "    adata.X = csr_matrix(adata_df)\n",
    "\n",
    "    adata.write('../joint_notebooks/datasets/{}_gut_data_perturbed_combined_c_n_more_relaxed_5_v2_oct_26_2024.h5ad'.format(i))"
   ]
  },
  {
   "cell_type": "code",
   "execution_count": 43,
   "id": "5cdfe8ec",
   "metadata": {},
   "outputs": [
    {
     "name": "stdout",
     "output_type": "stream",
     "text": [
      "0\n",
      "15.0\n",
      "1\n",
      "14.0\n",
      "2\n",
      "14.0\n",
      "3\n",
      "14.0\n",
      "4\n",
      "14.0\n",
      "5\n",
      "14.0\n",
      "6\n",
      "14.0\n",
      "7\n",
      "14.0\n",
      "8\n",
      "14.0\n",
      "9\n",
      "14.0\n"
     ]
    }
   ],
   "source": [
    "y = og_adata.obs['raw_biotin']\n",
    "for i in range(10):\n",
    "    print(i)\n",
    "    adata = og_adata.copy()\n",
    "    adata_df = adata.to_df().copy()\n",
    "    pert_df = adata_df[adata_df.columns.intersection(combined_c_n_relaxed['combined_c_n_6'])]\n",
    "\n",
    "    np.random.seed(i)\n",
    "    random_factors = np.random.uniform(0.5, 1.5, size=(pert_df.shape[0], 1))\n",
    "    random_factors.flatten()\n",
    "\n",
    "    result_df = np.round(pert_df * random_factors).astype(int).astype(float)\n",
    "\n",
    "    adata_df[result_df.columns] = result_df\n",
    "\n",
    "    result_y = np.round(y * random_factors.flatten()).astype(int).astype(float)\n",
    "    result_y = np.where(y >= 1, np.maximum(result_y, 1), result_y)\n",
    "\n",
    "    print(np.percentile(result_y, 5))\n",
    "\n",
    "    adata.obs['biotin_raw_perturbed'] = result_y\n",
    "\n",
    "    csr_matrix(adata_df)\n",
    "    adata.X = csr_matrix(adata_df)\n",
    "\n",
    "    adata.write('../joint_notebooks/datasets/{}_gut_data_perturbed_combined_c_n_relaxed_6_v2_oct_26_2024.h5ad'.format(i))"
   ]
  },
  {
   "cell_type": "code",
   "execution_count": 44,
   "id": "19489e1c",
   "metadata": {},
   "outputs": [],
   "source": [
    "og_adata = sc.read_h5ad('../joint_notebooks/datasets/lcmv_sys_data_aug_11_2024.h5ad')"
   ]
  },
  {
   "cell_type": "code",
   "execution_count": 45,
   "id": "2c24deb3",
   "metadata": {},
   "outputs": [
    {
     "name": "stdout",
     "output_type": "stream",
     "text": [
      "0\n",
      "2.0\n",
      "1\n",
      "2.0\n",
      "2\n",
      "2.0\n",
      "3\n",
      "2.0\n",
      "4\n",
      "2.0\n",
      "5\n",
      "2.0\n",
      "6\n",
      "2.0\n",
      "7\n",
      "2.0\n",
      "8\n",
      "2.0\n",
      "9\n",
      "2.0\n"
     ]
    }
   ],
   "source": [
    "for i in range(10):\n",
    "    print(i)\n",
    "    all_adata = og_adata.copy()\n",
    "    all_adata_df = all_adata.to_df().copy()\n",
    "    all_y = og_adata.obs['biotin_interaction'].copy()\n",
    "    adata = all_adata[~all_adata.obs['donor']].copy()\n",
    "    adata_df = adata.to_df().copy()\n",
    "    y = all_y[adata.obs.index]\n",
    "    \n",
    "    pert_df = adata_df[adata_df.columns.intersection(combined_c_n_relaxed['combined_c_n_5'])]\n",
    "\n",
    "    np.random.seed(i)\n",
    "    random_factors = np.random.uniform(0.5, 1.5, size=(pert_df.shape[0], 1))\n",
    "    random_factors.flatten()\n",
    "\n",
    "    result_df = np.round(pert_df * random_factors).astype(int).astype(float)\n",
    "\n",
    "    adata_df[result_df.columns] = result_df\n",
    "\n",
    "    result_y = np.round(y * random_factors.flatten()).astype(int).astype(float)\n",
    "    result_y = np.where(y >= 1, np.maximum(result_y, 1), result_y)\n",
    "\n",
    "    print(np.percentile(result_y, 5))\n",
    "\n",
    "    adata.obs['biotin_raw_perturbed'] = result_y\n",
    "    \n",
    "    all_adata_df.loc[adata_df.index, adata_df.columns] = adata_df.copy()\n",
    "    \n",
    "    all_y[adata.obs.index] = result_y.copy()\n",
    "    \n",
    "    all_adata.obs['biotin_raw_perturbed'] = all_y.copy()\n",
    "    all_adata.X = csr_matrix(all_adata_df)\n",
    "    \n",
    "    all_adata.write('../joint_notebooks/datasets/{}_lcmv_sys_data_perturbed_combined_c_n_more_relaxed_5_v2_oct_26_2024.h5ad'.format(i))"
   ]
  },
  {
   "cell_type": "code",
   "execution_count": 46,
   "id": "0a7c0c61",
   "metadata": {},
   "outputs": [
    {
     "name": "stdout",
     "output_type": "stream",
     "text": [
      "0\n",
      "2.0\n",
      "1\n",
      "2.0\n",
      "2\n",
      "2.0\n",
      "3\n",
      "2.0\n",
      "4\n",
      "2.0\n",
      "5\n",
      "2.0\n",
      "6\n",
      "2.0\n",
      "7\n",
      "2.0\n",
      "8\n",
      "2.0\n",
      "9\n",
      "2.0\n"
     ]
    }
   ],
   "source": [
    "for i in range(10):\n",
    "    print(i)\n",
    "    all_adata = og_adata.copy()\n",
    "    all_adata_df = all_adata.to_df().copy()\n",
    "    all_y = og_adata.obs['biotin_interaction'].copy()\n",
    "    adata = all_adata[~all_adata.obs['donor']].copy()\n",
    "    adata_df = adata.to_df().copy()\n",
    "    y = all_y[adata.obs.index]\n",
    "    \n",
    "    pert_df = adata_df[adata_df.columns.intersection(combined_c_n_relaxed['combined_c_n_6'])]\n",
    "\n",
    "    np.random.seed(i)\n",
    "    random_factors = np.random.uniform(0.5, 1.5, size=(pert_df.shape[0], 1))\n",
    "    random_factors.flatten()\n",
    "\n",
    "    result_df = np.round(pert_df * random_factors).astype(int).astype(float)\n",
    "\n",
    "    adata_df[result_df.columns] = result_df\n",
    "\n",
    "    result_y = np.round(y * random_factors.flatten()).astype(int).astype(float)\n",
    "    result_y = np.where(y >= 1, np.maximum(result_y, 1), result_y)\n",
    "\n",
    "    print(np.percentile(result_y, 5))\n",
    "\n",
    "    adata.obs['biotin_raw_perturbed'] = result_y\n",
    "    \n",
    "    all_adata_df.loc[adata_df.index, adata_df.columns] = adata_df.copy()\n",
    "    \n",
    "    all_y[adata.obs.index] = result_y.copy()\n",
    "    \n",
    "    all_adata.obs['biotin_raw_perturbed'] = all_y.copy()\n",
    "    all_adata.X = csr_matrix(all_adata_df)\n",
    "    \n",
    "    all_adata.write('../joint_notebooks/datasets/{}_lcmv_sys_data_perturbed_combined_c_n_relaxed_6_v2_oct_26_2024.h5ad'.format(i))"
   ]
  },
  {
   "cell_type": "code",
   "execution_count": 47,
   "id": "adc0f7c4",
   "metadata": {},
   "outputs": [],
   "source": [
    "og_adata = sc.read_h5ad('../joint_notebooks/datasets/lcmv_ln_data_aug_11_2024.h5ad')"
   ]
  },
  {
   "cell_type": "code",
   "execution_count": 48,
   "id": "b395959a",
   "metadata": {},
   "outputs": [
    {
     "name": "stdout",
     "output_type": "stream",
     "text": [
      "0\n",
      "1.0\n",
      "1\n",
      "1.0\n",
      "2\n",
      "1.0\n",
      "3\n",
      "1.0\n",
      "4\n",
      "1.0\n",
      "5\n",
      "1.0\n",
      "6\n",
      "1.0\n",
      "7\n",
      "1.0\n",
      "8\n",
      "1.0\n",
      "9\n",
      "1.0\n"
     ]
    }
   ],
   "source": [
    "for i in range(10):\n",
    "    print(i)\n",
    "    all_adata = og_adata.copy()\n",
    "    all_adata_df = all_adata.to_df().copy()\n",
    "    all_y = og_adata.obs['biotin_interaction'].copy()\n",
    "    adata = all_adata[~all_adata.obs['donor']].copy()\n",
    "    adata_df = adata.to_df().copy()\n",
    "    y = all_y[adata.obs.index]\n",
    "    \n",
    "    pert_df = adata_df[adata_df.columns.intersection(combined_c_n_relaxed['combined_c_n_5'])]\n",
    "\n",
    "    np.random.seed(i)\n",
    "    random_factors = np.random.uniform(0.5, 1.5, size=(pert_df.shape[0], 1))\n",
    "    random_factors.flatten()\n",
    "\n",
    "    result_df = np.round(pert_df * random_factors).astype(int).astype(float)\n",
    "\n",
    "    adata_df[result_df.columns] = result_df\n",
    "\n",
    "    result_y = np.round(y * random_factors.flatten()).astype(int).astype(float)\n",
    "    result_y = np.where(y >= 1, np.maximum(result_y, 1), result_y)\n",
    "\n",
    "    print(np.percentile(result_y, 5))\n",
    "\n",
    "    adata.obs['biotin_raw_perturbed'] = result_y\n",
    "    \n",
    "    all_adata_df.loc[adata_df.index, adata_df.columns] = adata_df.copy()\n",
    "    \n",
    "    all_y[adata.obs.index] = result_y.copy()\n",
    "    \n",
    "    all_adata.obs['biotin_raw_perturbed'] = all_y.copy()\n",
    "    all_adata.X = csr_matrix(all_adata_df)\n",
    "    \n",
    "    all_adata.write('../joint_notebooks/datasets/{}_lcmv_ln_data_perturbed_combined_c_n_more_relaxed_5_v2_oct_26_2024.h5ad'.format(i))"
   ]
  },
  {
   "cell_type": "code",
   "execution_count": 49,
   "id": "1cc04489",
   "metadata": {},
   "outputs": [
    {
     "name": "stdout",
     "output_type": "stream",
     "text": [
      "0\n",
      "1.0\n",
      "1\n",
      "1.0\n",
      "2\n",
      "1.0\n",
      "3\n",
      "1.0\n",
      "4\n",
      "1.0\n",
      "5\n",
      "1.0\n",
      "6\n",
      "1.0\n",
      "7\n",
      "1.0\n",
      "8\n",
      "1.0\n",
      "9\n",
      "1.0\n"
     ]
    }
   ],
   "source": [
    "for i in range(10):\n",
    "    print(i)\n",
    "    all_adata = og_adata.copy()\n",
    "    all_adata_df = all_adata.to_df().copy()\n",
    "    all_y = og_adata.obs['biotin_interaction'].copy()\n",
    "    adata = all_adata[~all_adata.obs['donor']].copy()\n",
    "    adata_df = adata.to_df().copy()\n",
    "    y = all_y[adata.obs.index]\n",
    "    \n",
    "    pert_df = adata_df[adata_df.columns.intersection(combined_c_n_relaxed['combined_c_n_6'])]\n",
    "\n",
    "    np.random.seed(i)\n",
    "    random_factors = np.random.uniform(0.5, 1.5, size=(pert_df.shape[0], 1))\n",
    "    random_factors.flatten()\n",
    "\n",
    "    result_df = np.round(pert_df * random_factors).astype(int).astype(float)\n",
    "\n",
    "    adata_df[result_df.columns] = result_df\n",
    "\n",
    "    result_y = np.round(y * random_factors.flatten()).astype(int).astype(float)\n",
    "    result_y = np.where(y >= 1, np.maximum(result_y, 1), result_y)\n",
    "\n",
    "    print(np.percentile(result_y, 5))\n",
    "\n",
    "    adata.obs['biotin_raw_perturbed'] = result_y\n",
    "    \n",
    "    all_adata_df.loc[adata_df.index, adata_df.columns] = adata_df.copy()\n",
    "    \n",
    "    all_y[adata.obs.index] = result_y.copy()\n",
    "    \n",
    "    all_adata.obs['biotin_raw_perturbed'] = all_y.copy()\n",
    "    all_adata.X = csr_matrix(all_adata_df)\n",
    "    \n",
    "    all_adata.write('../joint_notebooks/datasets/{}_lcmv_ln_data_perturbed_combined_c_n_relaxed_6_v2_oct_26_2024.h5ad'.format(i))"
   ]
  },
  {
   "cell_type": "code",
   "execution_count": null,
   "id": "c56e9170",
   "metadata": {},
   "outputs": [],
   "source": []
  },
  {
   "cell_type": "code",
   "execution_count": null,
   "id": "148ff924",
   "metadata": {},
   "outputs": [],
   "source": []
  }
 ],
 "metadata": {
  "kernelspec": {
   "display_name": "Python 3 (ipykernel)",
   "language": "python",
   "name": "python3"
  },
  "language_info": {
   "codemirror_mode": {
    "name": "ipython",
    "version": 3
   },
   "file_extension": ".py",
   "mimetype": "text/x-python",
   "name": "python",
   "nbconvert_exporter": "python",
   "pygments_lexer": "ipython3",
   "version": "3.9.16"
  }
 },
 "nbformat": 4,
 "nbformat_minor": 5
}
