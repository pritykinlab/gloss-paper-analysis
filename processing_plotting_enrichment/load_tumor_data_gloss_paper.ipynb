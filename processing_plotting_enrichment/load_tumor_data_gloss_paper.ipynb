{
 "cells": [
  {
   "cell_type": "code",
   "execution_count": 13,
   "id": "472aa796",
   "metadata": {},
   "outputs": [],
   "source": [
    "x = load('AC083023.rda')"
   ]
  },
  {
   "cell_type": "code",
   "execution_count": 15,
   "id": "21c89e13",
   "metadata": {},
   "outputs": [
    {
     "data": {
      "text/plain": [
       "An object of class Seurat \n",
       "36502 features across 11582 samples within 4 assays \n",
       "Active assay: SCT (14585 features, 3000 variable features)\n",
       " 3 other assays present: RNA, HTO, ADT\n",
       " 2 dimensional reductions calculated: pca, umap"
      ]
     },
     "metadata": {},
     "output_type": "display_data"
    }
   ],
   "source": [
    "AC083023.10x"
   ]
  },
  {
   "cell_type": "code",
   "execution_count": 16,
   "id": "53b9b9ad",
   "metadata": {},
   "outputs": [
    {
     "data": {
      "text/plain": [
       "An object of class Seurat \n",
       "36502 features across 11322 samples within 4 assays \n",
       "Active assay: SCT (14585 features, 3000 variable features)\n",
       " 3 other assays present: RNA, HTO, ADT\n",
       " 2 dimensional reductions calculated: pca, umap"
      ]
     },
     "metadata": {},
     "output_type": "display_data"
    }
   ],
   "source": [
    "AC083023.10x2"
   ]
  },
  {
   "cell_type": "code",
   "execution_count": 23,
   "id": "d90ff1c6",
   "metadata": {},
   "outputs": [],
   "source": [
    "library(reticulate)\n",
    "library(sceasy)"
   ]
  },
  {
   "cell_type": "code",
   "execution_count": 24,
   "id": "9b87718b",
   "metadata": {},
   "outputs": [],
   "source": [
    "use_condaenv('xenium')"
   ]
  },
  {
   "cell_type": "code",
   "execution_count": null,
   "id": "e813e598",
   "metadata": {},
   "outputs": [],
   "source": [
    "# get RNA slot counts\n",
    "# get ADT slot counts"
   ]
  },
  {
   "cell_type": "code",
   "execution_count": 25,
   "id": "1a5f609d",
   "metadata": {},
   "outputs": [
    {
     "name": "stderr",
     "output_type": "stream",
     "text": [
      "Warning message in .regularise_df(obj@meta.data, drop_single_values = drop_single_values):\n",
      "“Dropping single category variables:orig.ident, HTO_classification.global, SCT_snn_res.0”\n"
     ]
    },
    {
     "data": {
      "text/plain": [
       "AnnData object with n_obs × n_vars = 11322 × 21885\n",
       "    obs: 'nCount_RNA', 'nFeature_RNA', 'percent.mt', 'percent.mt.log2', 'nCount_HTO', 'nFeature_HTO', 'nCount_ADT', 'nFeature_ADT', 'HTO_maxID', 'HTO_secondID', 'HTO_margin', 'HTO_classification', 'hash.ID', 'nCount_SCT', 'nFeature_SCT', 'SCT_snn_res.0.1', 'SCT_snn_res.0.2', 'SCT_snn_res.0.3', 'SCT_snn_res.0.4', 'SCT_snn_res.0.5', 'SCT_snn_res.0.6', 'SCT_snn_res.0.7', 'SCT_snn_res.0.8', 'SCT_snn_res.0.9', 'SCT_snn_res.1', 'seurat_clusters', 'Hash', 'Enrichment', 'Ab_Group', 'S.Score', 'G2M.Score', 'Phase', 'Phase2', 'Biotin_Group2', 'Biotin_Ab_Group', 'Lipstic1'\n",
       "    var: 'name'\n",
       "    obsm: 'X_pca', 'X_umap'"
      ]
     },
     "metadata": {},
     "output_type": "display_data"
    }
   ],
   "source": [
    "sceasy::convertFormat(AC083023.10x2, from=\"seurat\", to=\"anndata\", assay='RNA', main_layer='counts',\n",
    "                       outFile='processed_Rda_outputs/AC083023.10x2_RNA.h5ad')"
   ]
  },
  {
   "cell_type": "code",
   "execution_count": 26,
   "id": "14780233",
   "metadata": {},
   "outputs": [
    {
     "name": "stderr",
     "output_type": "stream",
     "text": [
      "Warning message in .regularise_df(obj@meta.data, drop_single_values = drop_single_values):\n",
      "“Dropping single category variables:orig.ident, HTO_classification.global, SCT_snn_res.0”\n"
     ]
    },
    {
     "data": {
      "text/plain": [
       "AnnData object with n_obs × n_vars = 11322 × 18\n",
       "    obs: 'nCount_RNA', 'nFeature_RNA', 'percent.mt', 'percent.mt.log2', 'nCount_HTO', 'nFeature_HTO', 'nCount_ADT', 'nFeature_ADT', 'HTO_maxID', 'HTO_secondID', 'HTO_margin', 'HTO_classification', 'hash.ID', 'nCount_SCT', 'nFeature_SCT', 'SCT_snn_res.0.1', 'SCT_snn_res.0.2', 'SCT_snn_res.0.3', 'SCT_snn_res.0.4', 'SCT_snn_res.0.5', 'SCT_snn_res.0.6', 'SCT_snn_res.0.7', 'SCT_snn_res.0.8', 'SCT_snn_res.0.9', 'SCT_snn_res.1', 'seurat_clusters', 'Hash', 'Enrichment', 'Ab_Group', 'S.Score', 'G2M.Score', 'Phase', 'Phase2', 'Biotin_Group2', 'Biotin_Ab_Group', 'Lipstic1'\n",
       "    var: 'name'\n",
       "    obsm: 'X_pca', 'X_umap'"
      ]
     },
     "metadata": {},
     "output_type": "display_data"
    }
   ],
   "source": [
    "sceasy::convertFormat(AC083023.10x2, from=\"seurat\", to=\"anndata\", assay='ADT', main_layer='counts',\n",
    "                       outFile='processed_Rda_outputs/AC083023.10x2_ADT.h5ad')"
   ]
  }
 ],
 "metadata": {
  "kernelspec": {
   "display_name": "R",
   "language": "R",
   "name": "ir"
  },
  "language_info": {
   "codemirror_mode": "r",
   "file_extension": ".r",
   "mimetype": "text/x-r-source",
   "name": "R",
   "pygments_lexer": "r",
   "version": "4.2.0"
  }
 },
 "nbformat": 4,
 "nbformat_minor": 5
}
