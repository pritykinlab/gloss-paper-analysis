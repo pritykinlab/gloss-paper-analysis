{
 "cells": [
  {
   "cell_type": "code",
   "execution_count": 1,
   "id": "3856ba31",
   "metadata": {
    "scrolled": true
   },
   "outputs": [
    {
     "name": "stderr",
     "output_type": "stream",
     "text": [
      "Loading required package: dplyr\n",
      "\n",
      "\n",
      "Attaching package: ‘dplyr’\n",
      "\n",
      "\n",
      "The following objects are masked from ‘package:stats’:\n",
      "\n",
      "    filter, lag\n",
      "\n",
      "\n",
      "The following objects are masked from ‘package:base’:\n",
      "\n",
      "    intersect, setdiff, setequal, union\n",
      "\n",
      "\n",
      "Loading required package: igraph\n",
      "\n",
      "\n",
      "Attaching package: ‘igraph’\n",
      "\n",
      "\n",
      "The following objects are masked from ‘package:dplyr’:\n",
      "\n",
      "    as_data_frame, groups, union\n",
      "\n",
      "\n",
      "The following objects are masked from ‘package:stats’:\n",
      "\n",
      "    decompose, spectrum\n",
      "\n",
      "\n",
      "The following object is masked from ‘package:base’:\n",
      "\n",
      "    union\n",
      "\n",
      "\n",
      "Loading required package: ggplot2\n",
      "\n"
     ]
    }
   ],
   "source": [
    "library(CellChat)"
   ]
  },
  {
   "cell_type": "code",
   "execution_count": 3,
   "id": "c023fa05",
   "metadata": {},
   "outputs": [],
   "source": [
    "CellChatDB <- CellChatDB.mouse"
   ]
  },
  {
   "cell_type": "code",
   "execution_count": null,
   "id": "0cc2fb6f",
   "metadata": {},
   "outputs": [],
   "source": []
  },
  {
   "cell_type": "code",
   "execution_count": 4,
   "id": "1437ec84",
   "metadata": {},
   "outputs": [
    {
     "name": "stdout",
     "output_type": "stream",
     "text": [
      "Rows: 3,379\n",
      "Columns: 28\n",
      "$ interaction_name         \u001b[3m\u001b[90m<chr>\u001b[39m\u001b[23m \"TGFB1_TGFBR1_TGFBR2\", \"TGFB2_TGFBR1_TGFBR2\",…\n",
      "$ pathway_name             \u001b[3m\u001b[90m<chr>\u001b[39m\u001b[23m \"TGFb\", \"TGFb\", \"TGFb\", \"TGFb\", \"TGFb\", \"TGFb…\n",
      "$ ligand                   \u001b[3m\u001b[90m<chr>\u001b[39m\u001b[23m \"Tgfb1\", \"Tgfb2\", \"Tgfb3\", \"Tgfb1\", \"Tgfb1\", …\n",
      "$ receptor                 \u001b[3m\u001b[90m<chr>\u001b[39m\u001b[23m \"TGFbR1_R2\", \"TGFbR1_R2\", \"TGFbR1_R2\", \"ACVR1…\n",
      "$ agonist                  \u001b[3m\u001b[90m<chr>\u001b[39m\u001b[23m \"TGFb agonist\", \"TGFb agonist\", \"TGFb agonist…\n",
      "$ antagonist               \u001b[3m\u001b[90m<chr>\u001b[39m\u001b[23m \"TGFb antagonist\", \"TGFb antagonist\", \"TGFb a…\n",
      "$ co_A_receptor            \u001b[3m\u001b[90m<chr>\u001b[39m\u001b[23m \"\", \"\", \"\", \"\", \"\", \"\", \"\", \"\", \"\", \"\", \"\", \"…\n",
      "$ co_I_receptor            \u001b[3m\u001b[90m<chr>\u001b[39m\u001b[23m \"TGFb inhibition receptor\", \"TGFb inhibition …\n",
      "$ evidence                 \u001b[3m\u001b[90m<chr>\u001b[39m\u001b[23m \"KEGG: mmu04350\", \"KEGG: mmu04350\", \"KEGG: mm…\n",
      "$ annotation               \u001b[3m\u001b[90m<chr>\u001b[39m\u001b[23m \"Secreted Signaling\", \"Secreted Signaling\", \"…\n",
      "$ interaction_name_2       \u001b[3m\u001b[90m<chr>\u001b[39m\u001b[23m \"Tgfb1 - (Tgfbr1+Tgfbr2)\", \"Tgfb2  - (Tgfbr1+…\n",
      "$ is_neurotransmitter      \u001b[3m\u001b[90m<lgl>\u001b[39m\u001b[23m FALSE, FALSE, FALSE, FALSE, FALSE, FALSE, FAL…\n",
      "$ ligand.symbol            \u001b[3m\u001b[90m<chr>\u001b[39m\u001b[23m \"Tgfb1\", \"Tgfb2\", \"Tgfb3\", \"Tgfb1\", \"Tgfb1\", …\n",
      "$ ligand.family            \u001b[3m\u001b[90m<chr>\u001b[39m\u001b[23m \"TGF-beta\", \"TGF-beta\", \"TGF-beta\", \"TGF-beta…\n",
      "$ ligand.location          \u001b[3m\u001b[90m<chr>\u001b[39m\u001b[23m \"Extracellular matrix, Secreted, Extracellula…\n",
      "$ ligand.keyword           \u001b[3m\u001b[90m<chr>\u001b[39m\u001b[23m \"Disease variant, Signal, Reference proteome,…\n",
      "$ ligand.secreted_type     \u001b[3m\u001b[90m<chr>\u001b[39m\u001b[23m \"growth factor\", \"growth factor\", \"cytokine;g…\n",
      "$ ligand.transmembrane     \u001b[3m\u001b[90m<lgl>\u001b[39m\u001b[23m FALSE, FALSE, TRUE, FALSE, FALSE, FALSE, FALS…\n",
      "$ receptor.symbol          \u001b[3m\u001b[90m<chr>\u001b[39m\u001b[23m \"Tgfbr1, Tgfbr2\", \"Tgfbr1, Tgfbr2\", \"Tgfbr1, …\n",
      "$ receptor.family          \u001b[3m\u001b[90m<chr>\u001b[39m\u001b[23m \"Protein kinase superfamily, TKL Ser/Thr prot…\n",
      "$ receptor.location        \u001b[3m\u001b[90m<chr>\u001b[39m\u001b[23m \"Cell membrane, Secreted, Membrane raft, Cell…\n",
      "$ receptor.keyword         \u001b[3m\u001b[90m<chr>\u001b[39m\u001b[23m \"Membrane, Secreted, Disulfide bond, Kinase, …\n",
      "$ receptor.surfaceome_main \u001b[3m\u001b[90m<chr>\u001b[39m\u001b[23m \"Receptors\", \"Receptors\", \"Receptors\", \"Recep…\n",
      "$ receptor.surfaceome_sub  \u001b[3m\u001b[90m<chr>\u001b[39m\u001b[23m \"Act.TGFB;Kinase\", \"Act.TGFB;Kinase\", \"Act.TG…\n",
      "$ receptor.adhesome        \u001b[3m\u001b[90m<chr>\u001b[39m\u001b[23m \"\", \"\", \"\", \"\", \"\", \"\", \"\", \"\", \"\", \"\", \"\", \"…\n",
      "$ receptor.secreted_type   \u001b[3m\u001b[90m<chr>\u001b[39m\u001b[23m \"\", \"\", \"\", \"\", \"\", \"\", \"\", \"\", \"\", \"\", \"\", \"…\n",
      "$ receptor.transmembrane   \u001b[3m\u001b[90m<lgl>\u001b[39m\u001b[23m TRUE, TRUE, TRUE, TRUE, TRUE, TRUE, TRUE, TRU…\n",
      "$ version                  \u001b[3m\u001b[90m<chr>\u001b[39m\u001b[23m \"CellChatDB v1\", \"CellChatDB v1\", \"CellChatDB…\n"
     ]
    }
   ],
   "source": [
    "dplyr::glimpse(CellChatDB$interaction)"
   ]
  },
  {
   "cell_type": "code",
   "execution_count": 8,
   "id": "26e522c0",
   "metadata": {},
   "outputs": [],
   "source": [
    "write.csv(CellChatDB$interaction, file = \"../pathway_collections/cellchatdb_interaction.csv\", row.names=FALSE)"
   ]
  },
  {
   "cell_type": "code",
   "execution_count": null,
   "id": "121b17c5",
   "metadata": {},
   "outputs": [],
   "source": []
  }
 ],
 "metadata": {
  "kernelspec": {
   "display_name": "Rmamba",
   "language": "R",
   "name": "mamba"
  },
  "language_info": {
   "codemirror_mode": "r",
   "file_extension": ".r",
   "mimetype": "text/x-r-source",
   "name": "R",
   "pygments_lexer": "r",
   "version": "4.3.2"
  }
 },
 "nbformat": 4,
 "nbformat_minor": 5
}
