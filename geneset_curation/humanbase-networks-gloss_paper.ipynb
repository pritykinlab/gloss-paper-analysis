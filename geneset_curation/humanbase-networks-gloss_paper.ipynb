{
 "cells": [
  {
   "cell_type": "code",
   "execution_count": 54,
   "id": "7ce6396d",
   "metadata": {},
   "outputs": [],
   "source": [
    "import pandas as pd\n",
    "import numpy as np"
   ]
  },
  {
   "cell_type": "code",
   "execution_count": 108,
   "id": "c8b0c18a",
   "metadata": {},
   "outputs": [],
   "source": [
    "import gzip"
   ]
  },
  {
   "cell_type": "code",
   "execution_count": 94,
   "id": "c30c53ef",
   "metadata": {},
   "outputs": [
    {
     "name": "stdout",
     "output_type": "stream",
     "text": [
      "5187\n"
     ]
    }
   ],
   "source": [
    "# Path to your gzipped file\n",
    "file_path = '../pathway-graphs/macrophage_top.gz'\n",
    "\n",
    "cd40_name = '958'\n",
    "\n",
    "# Open and read the gzipped file\n",
    "with gzip.open(file_path, 'rt') as f:  # 'rt' mode opens the file as text\n",
    "    cd40list = []\n",
    "    j = 0\n",
    "    for i, line in enumerate(f):\n",
    "        test = line.strip().split('\\t')\n",
    "        if test[0] == cd40_name or test[1] == cd40_name:\n",
    "            j+=1\n",
    "            cd40list.append(tuple(test))\n",
    "        #print(test)\n",
    "        #mylist.append(test)\n",
    "    print(j)"
   ]
  },
  {
   "cell_type": "code",
   "execution_count": 95,
   "id": "268998bc",
   "metadata": {},
   "outputs": [],
   "source": [
    "gene_df = pd.DataFrame(cd40list, columns=['Gene A', 'Gene B', 'Probability'])"
   ]
  },
  {
   "cell_type": "code",
   "execution_count": 96,
   "id": "9b5548de",
   "metadata": {},
   "outputs": [],
   "source": [
    "gene_df['Probability'] = gene_df['Probability'].astype(float)"
   ]
  },
  {
   "cell_type": "code",
   "execution_count": 97,
   "id": "7c68884e",
   "metadata": {},
   "outputs": [],
   "source": [
    "filt_gene_df = gene_df[gene_df['Probability'] > 0.4]"
   ]
  },
  {
   "cell_type": "code",
   "execution_count": 98,
   "id": "2ea00126",
   "metadata": {},
   "outputs": [
    {
     "data": {
      "text/plain": [
       "994     10066\n",
       "998     10095\n",
       "1022    10184\n",
       "1035     1026\n",
       "1050    10346\n",
       "        ...  \n",
       "5171      958\n",
       "5172      958\n",
       "5173      958\n",
       "5178      958\n",
       "5181      958\n",
       "Name: Gene A, Length: 208, dtype: object"
      ]
     },
     "execution_count": 98,
     "metadata": {},
     "output_type": "execute_result"
    }
   ],
   "source": [
    "filt_gene_df['Gene A']"
   ]
  },
  {
   "cell_type": "code",
   "execution_count": 99,
   "id": "9eacdcc8",
   "metadata": {},
   "outputs": [],
   "source": [
    "union_set = set(filt_gene_df['Gene A']).union(set(filt_gene_df['Gene B']))"
   ]
  },
  {
   "cell_type": "code",
   "execution_count": 106,
   "id": "140070cf",
   "metadata": {},
   "outputs": [
    {
     "data": {
      "text/plain": [
       "209"
      ]
     },
     "execution_count": 106,
     "metadata": {},
     "output_type": "execute_result"
    }
   ],
   "source": [
    "len(union_set)"
   ]
  },
  {
   "cell_type": "code",
   "execution_count": 100,
   "id": "84bb4af3",
   "metadata": {},
   "outputs": [],
   "source": [
    "mylist = list(union_set)"
   ]
  },
  {
   "cell_type": "code",
   "execution_count": 101,
   "id": "f2e6aaa6",
   "metadata": {},
   "outputs": [],
   "source": [
    "from gprofiler import GProfiler\n",
    "\n",
    "# Initialize the GProfiler object\n",
    "gp = GProfiler(return_dataframe=True)\n",
    "\n",
    "# List of human gene symbols\n",
    "#human_genes = ['TP53', 'EGFR', 'BRCA1']  # Add your human genes here\n",
    "\n",
    "# Convert human genes to mouse orthologs\n",
    "result = gp.orth(organism='hsapiens', target='mmusculus', query=mylist, numeric_namespace='ENTREZGENE_ACC')"
   ]
  },
  {
   "cell_type": "code",
   "execution_count": 103,
   "id": "8e8a120c",
   "metadata": {},
   "outputs": [],
   "source": [
    "macrophage_cd40_geneset = set(result['name'])"
   ]
  },
  {
   "cell_type": "code",
   "execution_count": 107,
   "id": "bf12f2dd",
   "metadata": {},
   "outputs": [],
   "source": [
    "macrophage_cd40_geneset.discard('N/A')"
   ]
  },
  {
   "cell_type": "markdown",
   "id": "b3e86172",
   "metadata": {},
   "source": [
    "## dcs"
   ]
  },
  {
   "cell_type": "code",
   "execution_count": 109,
   "id": "38eb9e24",
   "metadata": {},
   "outputs": [
    {
     "name": "stdout",
     "output_type": "stream",
     "text": [
      "18227\n"
     ]
    }
   ],
   "source": [
    "# Path to your gzipped file\n",
    "file_path = '../pathway-graphs/dendritic_cell_top.gz'\n",
    "\n",
    "cd40_name = '958'\n",
    "\n",
    "# Open and read the gzipped file\n",
    "with gzip.open(file_path, 'rt') as f:  # 'rt' mode opens the file as text\n",
    "    dc_cd40list = []\n",
    "    j = 0\n",
    "    for i, line in enumerate(f):\n",
    "        test = line.strip().split('\\t')\n",
    "        if test[0] == cd40_name or test[1] == cd40_name:\n",
    "            j+=1\n",
    "            dc_cd40list.append(tuple(test))\n",
    "        #print(test)\n",
    "        #mylist.append(test)\n",
    "    print(j)"
   ]
  },
  {
   "cell_type": "code",
   "execution_count": 110,
   "id": "f0f199e5",
   "metadata": {},
   "outputs": [],
   "source": [
    "gene_df = pd.DataFrame(dc_cd40list, columns=['Gene A', 'Gene B', 'Probability'])"
   ]
  },
  {
   "cell_type": "code",
   "execution_count": 111,
   "id": "7b37be25",
   "metadata": {},
   "outputs": [],
   "source": [
    "gene_df['Probability'] = gene_df['Probability'].astype(float)"
   ]
  },
  {
   "cell_type": "code",
   "execution_count": 131,
   "id": "86560ff7",
   "metadata": {},
   "outputs": [],
   "source": [
    "filt_gene_df = gene_df[gene_df['Probability'] > 0.6]"
   ]
  },
  {
   "cell_type": "code",
   "execution_count": 132,
   "id": "ccc77c00",
   "metadata": {},
   "outputs": [
    {
     "data": {
      "text/plain": [
       "1421     10154\n",
       "1476     10219\n",
       "1504      1025\n",
       "1514     10261\n",
       "1536     10287\n",
       "         ...  \n",
       "18185      958\n",
       "18199      958\n",
       "18216      958\n",
       "18225      958\n",
       "18226      958\n",
       "Name: Gene A, Length: 315, dtype: object"
      ]
     },
     "execution_count": 132,
     "metadata": {},
     "output_type": "execute_result"
    }
   ],
   "source": [
    "filt_gene_df['Gene A']"
   ]
  },
  {
   "cell_type": "code",
   "execution_count": 133,
   "id": "55d6203a",
   "metadata": {},
   "outputs": [],
   "source": [
    "union_set = set(filt_gene_df['Gene A']).union(set(filt_gene_df['Gene B']))"
   ]
  },
  {
   "cell_type": "code",
   "execution_count": 134,
   "id": "a8446f93",
   "metadata": {},
   "outputs": [
    {
     "data": {
      "text/plain": [
       "316"
      ]
     },
     "execution_count": 134,
     "metadata": {},
     "output_type": "execute_result"
    }
   ],
   "source": [
    "len(union_set)"
   ]
  },
  {
   "cell_type": "code",
   "execution_count": 135,
   "id": "f2f57055",
   "metadata": {},
   "outputs": [],
   "source": [
    "mylist = list(union_set)"
   ]
  },
  {
   "cell_type": "code",
   "execution_count": 136,
   "id": "1d1fa003",
   "metadata": {},
   "outputs": [],
   "source": [
    "from gprofiler import GProfiler\n",
    "\n",
    "# Initialize the GProfiler object\n",
    "gp = GProfiler(return_dataframe=True)\n",
    "\n",
    "# List of human gene symbols\n",
    "#human_genes = ['TP53', 'EGFR', 'BRCA1']  # Add your human genes here\n",
    "\n",
    "# Convert human genes to mouse orthologs\n",
    "result = gp.orth(organism='hsapiens', target='mmusculus', query=mylist, numeric_namespace='ENTREZGENE_ACC')"
   ]
  },
  {
   "cell_type": "code",
   "execution_count": 137,
   "id": "53f2604b",
   "metadata": {},
   "outputs": [
    {
     "data": {
      "text/html": [
       "<div>\n",
       "<style scoped>\n",
       "    .dataframe tbody tr th:only-of-type {\n",
       "        vertical-align: middle;\n",
       "    }\n",
       "\n",
       "    .dataframe tbody tr th {\n",
       "        vertical-align: top;\n",
       "    }\n",
       "\n",
       "    .dataframe thead th {\n",
       "        text-align: right;\n",
       "    }\n",
       "</style>\n",
       "<table border=\"1\" class=\"dataframe\">\n",
       "  <thead>\n",
       "    <tr style=\"text-align: right;\">\n",
       "      <th></th>\n",
       "      <th>incoming</th>\n",
       "      <th>converted</th>\n",
       "      <th>ortholog_ensg</th>\n",
       "      <th>n_incoming</th>\n",
       "      <th>n_converted</th>\n",
       "      <th>n_result</th>\n",
       "      <th>name</th>\n",
       "      <th>description</th>\n",
       "      <th>namespaces</th>\n",
       "    </tr>\n",
       "  </thead>\n",
       "  <tbody>\n",
       "    <tr>\n",
       "      <th>0</th>\n",
       "      <td>2621</td>\n",
       "      <td>ENSG00000183087</td>\n",
       "      <td>ENSMUSG00000031451</td>\n",
       "      <td>1</td>\n",
       "      <td>1</td>\n",
       "      <td>1</td>\n",
       "      <td>Gas6</td>\n",
       "      <td>growth arrest specific 6 [Source:MGI Symbol;Ac...</td>\n",
       "      <td>ENTREZGENE_ACC</td>\n",
       "    </tr>\n",
       "    <tr>\n",
       "      <th>1</th>\n",
       "      <td>10507</td>\n",
       "      <td>ENSG00000187764</td>\n",
       "      <td>ENSMUSG00000021451</td>\n",
       "      <td>2</td>\n",
       "      <td>1</td>\n",
       "      <td>1</td>\n",
       "      <td>Sema4d</td>\n",
       "      <td>sema domain, immunoglobulin domain (Ig), trans...</td>\n",
       "      <td>ENTREZGENE_ACC</td>\n",
       "    </tr>\n",
       "    <tr>\n",
       "      <th>2</th>\n",
       "      <td>7106</td>\n",
       "      <td>ENSG00000214063</td>\n",
       "      <td>ENSMUSG00000025511</td>\n",
       "      <td>3</td>\n",
       "      <td>1</td>\n",
       "      <td>1</td>\n",
       "      <td>Tspan4</td>\n",
       "      <td>tetraspanin 4 [Source:MGI Symbol;Acc:MGI:1928097]</td>\n",
       "      <td>ENTREZGENE_ACC</td>\n",
       "    </tr>\n",
       "    <tr>\n",
       "      <th>3</th>\n",
       "      <td>4794</td>\n",
       "      <td>ENSG00000146232</td>\n",
       "      <td>ENSMUSG00000023947</td>\n",
       "      <td>4</td>\n",
       "      <td>1</td>\n",
       "      <td>1</td>\n",
       "      <td>Nfkbie</td>\n",
       "      <td>nuclear factor of kappa light polypeptide gene...</td>\n",
       "      <td>ENTREZGENE_ACC</td>\n",
       "    </tr>\n",
       "    <tr>\n",
       "      <th>4</th>\n",
       "      <td>8519</td>\n",
       "      <td>ENSG00000185885</td>\n",
       "      <td>ENSMUSG00000025491</td>\n",
       "      <td>5</td>\n",
       "      <td>1</td>\n",
       "      <td>1</td>\n",
       "      <td>Ifitm1</td>\n",
       "      <td>interferon induced transmembrane protein 1 [So...</td>\n",
       "      <td>ENTREZGENE_ACC</td>\n",
       "    </tr>\n",
       "    <tr>\n",
       "      <th>...</th>\n",
       "      <td>...</td>\n",
       "      <td>...</td>\n",
       "      <td>...</td>\n",
       "      <td>...</td>\n",
       "      <td>...</td>\n",
       "      <td>...</td>\n",
       "      <td>...</td>\n",
       "      <td>...</td>\n",
       "      <td>...</td>\n",
       "    </tr>\n",
       "    <tr>\n",
       "      <th>354</th>\n",
       "      <td>3587</td>\n",
       "      <td>ENSG00000110324</td>\n",
       "      <td>ENSMUSG00000032089</td>\n",
       "      <td>312</td>\n",
       "      <td>1</td>\n",
       "      <td>1</td>\n",
       "      <td>Il10ra</td>\n",
       "      <td>interleukin 10 receptor, alpha [Source:MGI Sym...</td>\n",
       "      <td>ENTREZGENE_ACC</td>\n",
       "    </tr>\n",
       "    <tr>\n",
       "      <th>355</th>\n",
       "      <td>9261</td>\n",
       "      <td>ENSG00000162889</td>\n",
       "      <td>ENSMUSG00000016528</td>\n",
       "      <td>313</td>\n",
       "      <td>1</td>\n",
       "      <td>1</td>\n",
       "      <td>Mapkapk2</td>\n",
       "      <td>MAP kinase-activated protein kinase 2 [Source:...</td>\n",
       "      <td>ENTREZGENE_ACC</td>\n",
       "    </tr>\n",
       "    <tr>\n",
       "      <th>356</th>\n",
       "      <td>19</td>\n",
       "      <td>ENSG00000165029</td>\n",
       "      <td>ENSMUSG00000015243</td>\n",
       "      <td>314</td>\n",
       "      <td>1</td>\n",
       "      <td>1</td>\n",
       "      <td>Abca1</td>\n",
       "      <td>ATP-binding cassette, sub-family A (ABC1), mem...</td>\n",
       "      <td>ENTREZGENE_ACC</td>\n",
       "    </tr>\n",
       "    <tr>\n",
       "      <th>357</th>\n",
       "      <td>5720</td>\n",
       "      <td>ENSG00000092010</td>\n",
       "      <td>ENSMUSG00000022216</td>\n",
       "      <td>315</td>\n",
       "      <td>1</td>\n",
       "      <td>1</td>\n",
       "      <td>Psme1</td>\n",
       "      <td>proteasome (prosome, macropain) activator subu...</td>\n",
       "      <td>ENTREZGENE_ACC</td>\n",
       "    </tr>\n",
       "    <tr>\n",
       "      <th>358</th>\n",
       "      <td>23527</td>\n",
       "      <td>ENSG00000114331</td>\n",
       "      <td>ENSMUSG00000049076</td>\n",
       "      <td>316</td>\n",
       "      <td>1</td>\n",
       "      <td>1</td>\n",
       "      <td>Acap2</td>\n",
       "      <td>ArfGAP with coiled-coil, ankyrin repeat and PH...</td>\n",
       "      <td>ENTREZGENE_ACC</td>\n",
       "    </tr>\n",
       "  </tbody>\n",
       "</table>\n",
       "<p>359 rows × 9 columns</p>\n",
       "</div>"
      ],
      "text/plain": [
       "    incoming        converted       ortholog_ensg  n_incoming  n_converted  \\\n",
       "0       2621  ENSG00000183087  ENSMUSG00000031451           1            1   \n",
       "1      10507  ENSG00000187764  ENSMUSG00000021451           2            1   \n",
       "2       7106  ENSG00000214063  ENSMUSG00000025511           3            1   \n",
       "3       4794  ENSG00000146232  ENSMUSG00000023947           4            1   \n",
       "4       8519  ENSG00000185885  ENSMUSG00000025491           5            1   \n",
       "..       ...              ...                 ...         ...          ...   \n",
       "354     3587  ENSG00000110324  ENSMUSG00000032089         312            1   \n",
       "355     9261  ENSG00000162889  ENSMUSG00000016528         313            1   \n",
       "356       19  ENSG00000165029  ENSMUSG00000015243         314            1   \n",
       "357     5720  ENSG00000092010  ENSMUSG00000022216         315            1   \n",
       "358    23527  ENSG00000114331  ENSMUSG00000049076         316            1   \n",
       "\n",
       "     n_result      name                                        description  \\\n",
       "0           1      Gas6  growth arrest specific 6 [Source:MGI Symbol;Ac...   \n",
       "1           1    Sema4d  sema domain, immunoglobulin domain (Ig), trans...   \n",
       "2           1    Tspan4  tetraspanin 4 [Source:MGI Symbol;Acc:MGI:1928097]   \n",
       "3           1    Nfkbie  nuclear factor of kappa light polypeptide gene...   \n",
       "4           1    Ifitm1  interferon induced transmembrane protein 1 [So...   \n",
       "..        ...       ...                                                ...   \n",
       "354         1    Il10ra  interleukin 10 receptor, alpha [Source:MGI Sym...   \n",
       "355         1  Mapkapk2  MAP kinase-activated protein kinase 2 [Source:...   \n",
       "356         1     Abca1  ATP-binding cassette, sub-family A (ABC1), mem...   \n",
       "357         1     Psme1  proteasome (prosome, macropain) activator subu...   \n",
       "358         1     Acap2  ArfGAP with coiled-coil, ankyrin repeat and PH...   \n",
       "\n",
       "         namespaces  \n",
       "0    ENTREZGENE_ACC  \n",
       "1    ENTREZGENE_ACC  \n",
       "2    ENTREZGENE_ACC  \n",
       "3    ENTREZGENE_ACC  \n",
       "4    ENTREZGENE_ACC  \n",
       "..              ...  \n",
       "354  ENTREZGENE_ACC  \n",
       "355  ENTREZGENE_ACC  \n",
       "356  ENTREZGENE_ACC  \n",
       "357  ENTREZGENE_ACC  \n",
       "358  ENTREZGENE_ACC  \n",
       "\n",
       "[359 rows x 9 columns]"
      ]
     },
     "execution_count": 137,
     "metadata": {},
     "output_type": "execute_result"
    }
   ],
   "source": [
    "result"
   ]
  },
  {
   "cell_type": "code",
   "execution_count": 138,
   "id": "06fd374c",
   "metadata": {},
   "outputs": [],
   "source": [
    "dc_cd40_geneset = set(result['name'])"
   ]
  },
  {
   "cell_type": "code",
   "execution_count": 139,
   "id": "ab859d56",
   "metadata": {},
   "outputs": [],
   "source": [
    "dc_cd40_geneset.discard('N/A')"
   ]
  },
  {
   "cell_type": "code",
   "execution_count": 140,
   "id": "36d0b277",
   "metadata": {},
   "outputs": [
    {
     "data": {
      "text/plain": [
       "336"
      ]
     },
     "execution_count": 140,
     "metadata": {},
     "output_type": "execute_result"
    }
   ],
   "source": [
    "len(dc_cd40_geneset)"
   ]
  },
  {
   "cell_type": "code",
   "execution_count": 123,
   "id": "e5a3ff0c",
   "metadata": {},
   "outputs": [],
   "source": [
    "import scanpy as sc"
   ]
  },
  {
   "cell_type": "code",
   "execution_count": 124,
   "id": "9fb19c9c",
   "metadata": {},
   "outputs": [],
   "source": [
    "datapath = '../joint_notebooks/datasets/lipstic_tumor_data_aug_11_2024.h5ad'\n",
    "adata = sc.read_h5ad(datapath)"
   ]
  },
  {
   "cell_type": "code",
   "execution_count": 142,
   "id": "bcdaf84c",
   "metadata": {},
   "outputs": [
    {
     "data": {
      "text/plain": [
       "Index(['Ncf2', 'Stat1', 'Cxcr4', 'Fcmr', 'Mapkapk2', 'Cflar', 'Tnfsf4', 'Atf3',\n",
       "       'Slc19a2', 'Mpzl1',\n",
       "       ...\n",
       "       'Efemp2', 'Ch25h', 'Lipa', 'Blnk', 'Stx5a', 'Nfkb2', 'Dusp5', 'Gstp1',\n",
       "       'Gstp2', 'Vegfb'],\n",
       "      dtype='object', length=291)"
      ]
     },
     "execution_count": 142,
     "metadata": {},
     "output_type": "execute_result"
    }
   ],
   "source": [
    "adata.var.index.intersection(dc_cd40_geneset)"
   ]
  },
  {
   "cell_type": "code",
   "execution_count": 143,
   "id": "b217d1ab",
   "metadata": {},
   "outputs": [],
   "source": [
    "humanbase = {\n",
    "    'hb_macrophage_cd40' : macrophage_cd40_geneset,\n",
    "    'hb_dc_cd40' : dc_cd40_geneset\n",
    "}"
   ]
  },
  {
   "cell_type": "code",
   "execution_count": 145,
   "id": "81485c36",
   "metadata": {},
   "outputs": [],
   "source": [
    "import pickle"
   ]
  },
  {
   "cell_type": "code",
   "execution_count": 146,
   "id": "4b0723dd",
   "metadata": {},
   "outputs": [],
   "source": [
    "with open('./humanbase_cd40neighbors.pickle', 'wb') as handle:\n",
    "    pickle.dump(humanbase, handle, protocol=4)"
   ]
  },
  {
   "cell_type": "code",
   "execution_count": 123,
   "id": "5f432d15",
   "metadata": {},
   "outputs": [],
   "source": [
    "import scanpy as sc"
   ]
  },
  {
   "cell_type": "code",
   "execution_count": 124,
   "id": "08760f8e",
   "metadata": {},
   "outputs": [],
   "source": [
    "datapath = '../joint_notebooks/datasets/lipstic_tumor_data_aug_11_2024.h5ad'\n",
    "adata = sc.read_h5ad(datapath)"
   ]
  },
  {
   "cell_type": "code",
   "execution_count": 142,
   "id": "a9fbd0f4",
   "metadata": {},
   "outputs": [
    {
     "data": {
      "text/plain": [
       "Index(['Ncf2', 'Stat1', 'Cxcr4', 'Fcmr', 'Mapkapk2', 'Cflar', 'Tnfsf4', 'Atf3',\n",
       "       'Slc19a2', 'Mpzl1',\n",
       "       ...\n",
       "       'Efemp2', 'Ch25h', 'Lipa', 'Blnk', 'Stx5a', 'Nfkb2', 'Dusp5', 'Gstp1',\n",
       "       'Gstp2', 'Vegfb'],\n",
       "      dtype='object', length=291)"
      ]
     },
     "execution_count": 142,
     "metadata": {},
     "output_type": "execute_result"
    }
   ],
   "source": [
    "adata.var.index.intersection(dc_cd40_geneset)"
   ]
  },
  {
   "cell_type": "code",
   "execution_count": 143,
   "id": "e79a49d6",
   "metadata": {},
   "outputs": [],
   "source": [
    "humanbase = {\n",
    "    'hb_macrophage_cd40' : macrophage_cd40_geneset,\n",
    "    'hb_dc_cd40' : dc_cd40_geneset\n",
    "}"
   ]
  },
  {
   "cell_type": "code",
   "execution_count": 145,
   "id": "3838e289",
   "metadata": {},
   "outputs": [],
   "source": [
    "import pickle"
   ]
  },
  {
   "cell_type": "code",
   "execution_count": 146,
   "id": "17778a8b",
   "metadata": {},
   "outputs": [],
   "source": [
    "with open('./humanbase_cd40neighbors.pickle', 'wb') as handle:\n",
    "    pickle.dump(humanbase, handle, protocol=4)"
   ]
  },
  {
   "cell_type": "markdown",
   "id": "490d0b80",
   "metadata": {},
   "source": [
    "## looping through different probability thresholds"
   ]
  },
  {
   "cell_type": "code",
   "execution_count": 147,
   "id": "1104ac9c",
   "metadata": {},
   "outputs": [],
   "source": [
    "myrange = [0.2, 0.4, 0.6, 0.8]"
   ]
  },
  {
   "cell_type": "code",
   "execution_count": 150,
   "id": "6440c4de",
   "metadata": {},
   "outputs": [
    {
     "name": "stdout",
     "output_type": "stream",
     "text": [
      "0.2\n",
      "979\n",
      "0.4\n",
      "218\n",
      "0.6\n",
      "69\n",
      "0.8\n",
      "11\n"
     ]
    }
   ],
   "source": [
    "mac_gene_sets = {}\n",
    "for i in myrange:\n",
    "    print(i)\n",
    "    gene_df = pd.DataFrame(cd40list, columns=['Gene A', 'Gene B', 'Probability'])\n",
    "    gene_df['Probability'] = gene_df['Probability'].astype(float)\n",
    "\n",
    "    filt_gene_df = gene_df[gene_df['Probability'] > i]\n",
    "\n",
    "    union_set = set(filt_gene_df['Gene A']).union(set(filt_gene_df['Gene B']))\n",
    "    \n",
    "    #print(len(union_set))\n",
    "\n",
    "    mylist = list(union_set)\n",
    "\n",
    "    # Initialize the GProfiler object\n",
    "    gp = GProfiler(return_dataframe=True)\n",
    "\n",
    "    # Convert human genes to mouse orthologs\n",
    "    result = gp.orth(organism='hsapiens', target='mmusculus', query=mylist, numeric_namespace='ENTREZGENE_ACC')\n",
    "    myset = set(result['name'])\n",
    "    myset.discard('N/A')\n",
    "    print(len(myset))\n",
    "    mac_gene_sets[i] = myset"
   ]
  },
  {
   "cell_type": "code",
   "execution_count": 152,
   "id": "ff3f2b4c",
   "metadata": {},
   "outputs": [
    {
     "name": "stdout",
     "output_type": "stream",
     "text": [
      "0.2\n",
      "6451\n",
      "0.4\n",
      "1572\n",
      "0.6\n",
      "336\n",
      "0.8\n",
      "44\n"
     ]
    }
   ],
   "source": [
    "dc_gene_sets = {}\n",
    "for i in myrange:\n",
    "    print(i)\n",
    "    gene_df = pd.DataFrame(dc_cd40list, columns=['Gene A', 'Gene B', 'Probability'])\n",
    "    gene_df['Probability'] = gene_df['Probability'].astype(float)\n",
    "\n",
    "    filt_gene_df = gene_df[gene_df['Probability'] > i]\n",
    "\n",
    "    union_set = set(filt_gene_df['Gene A']).union(set(filt_gene_df['Gene B']))\n",
    "    \n",
    "    #print(len(union_set))\n",
    "\n",
    "    mylist = list(union_set)\n",
    "\n",
    "    # Initialize the GProfiler object\n",
    "    gp = GProfiler(return_dataframe=True)\n",
    "\n",
    "    # Convert human genes to mouse orthologs\n",
    "    result = gp.orth(organism='hsapiens', target='mmusculus', query=mylist, numeric_namespace='ENTREZGENE_ACC')\n",
    "    myset = set(result['name'])\n",
    "    myset.discard('N/A')\n",
    "    print(len(myset))\n",
    "    dc_gene_sets[i] = myset"
   ]
  },
  {
   "cell_type": "code",
   "execution_count": 153,
   "id": "e0ce07ae",
   "metadata": {},
   "outputs": [],
   "source": [
    "mac_sweep_dict = {}\n",
    "for i in mac_gene_sets:\n",
    "    mac_sweep_dict['mac_{}'.format(i)] = mac_gene_sets[i]"
   ]
  },
  {
   "cell_type": "code",
   "execution_count": 159,
   "id": "8965d0a8",
   "metadata": {},
   "outputs": [],
   "source": [
    "dc_sweep_dict = {}\n",
    "for i in dc_gene_sets:\n",
    "    dc_sweep_dict['dc_{}'.format(i)] = dc_gene_sets[i]"
   ]
  },
  {
   "cell_type": "code",
   "execution_count": 157,
   "id": "a6543d0d",
   "metadata": {},
   "outputs": [],
   "source": [
    "with open('./humanbase_mac_sweep.pickle', 'wb') as handle:\n",
    "    pickle.dump(mac_sweep_dict, handle, protocol=4)"
   ]
  },
  {
   "cell_type": "code",
   "execution_count": 160,
   "id": "a812223a",
   "metadata": {},
   "outputs": [],
   "source": [
    "with open('./humanbase_dc_sweep.pickle', 'wb') as handle:\n",
    "    pickle.dump(dc_sweep_dict, handle, protocol=4)"
   ]
  },
  {
   "cell_type": "code",
   "execution_count": null,
   "id": "ad1e416e",
   "metadata": {},
   "outputs": [],
   "source": []
  }
 ],
 "metadata": {
  "kernelspec": {
   "display_name": "Python 3 (ipykernel)",
   "language": "python",
   "name": "python3"
  },
  "language_info": {
   "codemirror_mode": {
    "name": "ipython",
    "version": 3
   },
   "file_extension": ".py",
   "mimetype": "text/x-python",
   "name": "python",
   "nbconvert_exporter": "python",
   "pygments_lexer": "ipython3",
   "version": "3.9.16"
  }
 },
 "nbformat": 4,
 "nbformat_minor": 5
}
