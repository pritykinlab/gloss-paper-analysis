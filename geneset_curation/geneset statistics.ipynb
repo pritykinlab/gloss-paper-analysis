{
 "cells": [
  {
   "cell_type": "code",
   "execution_count": 13,
   "id": "8d0f0b32",
   "metadata": {},
   "outputs": [],
   "source": [
    "import pickle \n",
    "import os\n",
    "import numpy as np"
   ]
  },
  {
   "cell_type": "code",
   "execution_count": 7,
   "id": "49bf2229",
   "metadata": {},
   "outputs": [],
   "source": [
    "def _get_hallmark_pathways():\n",
    "        pathways = {}\n",
    "        hallmark_pathways_path = '../pathway_collections/mouse_hallmark_genes.gmt.txt'\n",
    "        data_file_path = hallmark_pathways_path\n",
    "        with open(data_file_path, \"r\") as f:\n",
    "            for line in f:\n",
    "                line = line.strip()\n",
    "                words = line.split(\"\\t\")\n",
    "                pathway = words[2:]\n",
    "                #pathway = list(set(pathway).intersection(self.adata_genes))\n",
    "                pathway = list(set(pathway))\n",
    "                pathways[words[0]] = pathway\n",
    "\n",
    "        return pathways"
   ]
  },
  {
   "cell_type": "code",
   "execution_count": 14,
   "id": "c2a846a9",
   "metadata": {},
   "outputs": [],
   "source": [
    "hmk = _get_hallmark_pathways()"
   ]
  },
  {
   "cell_type": "code",
   "execution_count": 15,
   "id": "44a8747e",
   "metadata": {},
   "outputs": [],
   "source": [
    "# Get the lengths of all lists in the dictionary\n",
    "list_sizes = [len(v) for v in hmk.values()]\n",
    "\n",
    "# Calculate the median, max, and min sizes\n",
    "median_size = np.median(list_sizes)\n",
    "max_size = np.max(list_sizes)\n",
    "min_size = np.min(list_sizes)"
   ]
  },
  {
   "cell_type": "code",
   "execution_count": 16,
   "id": "3598fc58",
   "metadata": {},
   "outputs": [
    {
     "data": {
      "text/plain": [
       "173.0"
      ]
     },
     "execution_count": 16,
     "metadata": {},
     "output_type": "execute_result"
    }
   ],
   "source": [
    "median_size"
   ]
  },
  {
   "cell_type": "code",
   "execution_count": 17,
   "id": "aaaab338",
   "metadata": {},
   "outputs": [
    {
     "data": {
      "text/plain": [
       "200"
      ]
     },
     "execution_count": 17,
     "metadata": {},
     "output_type": "execute_result"
    }
   ],
   "source": [
    "max_size"
   ]
  },
  {
   "cell_type": "code",
   "execution_count": 18,
   "id": "5401984d",
   "metadata": {},
   "outputs": [
    {
     "data": {
      "text/plain": [
       "32"
      ]
     },
     "execution_count": 18,
     "metadata": {},
     "output_type": "execute_result"
    }
   ],
   "source": [
    "min_size"
   ]
  },
  {
   "cell_type": "code",
   "execution_count": 24,
   "id": "ce63d5db",
   "metadata": {},
   "outputs": [],
   "source": [
    "def _get_kegg_pathways():\n",
    "    kegg_pathways_path = '../pathway_collections/kegg_pathways_sep18_2024.pkl'\n",
    "    data_file_path = kegg_pathways_path\n",
    "    with open(data_file_path, 'rb') as handle:\n",
    "        kegg_gene_sets = pickle.load(handle)\n",
    "    for key, value in kegg_gene_sets.items():\n",
    "        kegg_gene_sets[key] = list(set([gene for gene in value]))\n",
    "    return kegg_gene_sets"
   ]
  },
  {
   "cell_type": "code",
   "execution_count": 25,
   "id": "e6dc6c6d",
   "metadata": {},
   "outputs": [],
   "source": [
    "kegg = _get_kegg_pathways()"
   ]
  },
  {
   "cell_type": "code",
   "execution_count": 32,
   "id": "17c0d952",
   "metadata": {},
   "outputs": [],
   "source": [
    "filtered_kegg = {}"
   ]
  },
  {
   "cell_type": "code",
   "execution_count": 33,
   "id": "2b0863ee",
   "metadata": {},
   "outputs": [],
   "source": [
    "for key in kegg:\n",
    "    if kegg[key]:\n",
    "        filtered_kegg[key] = kegg[key]"
   ]
  },
  {
   "cell_type": "code",
   "execution_count": 34,
   "id": "ddb7559a",
   "metadata": {},
   "outputs": [],
   "source": [
    "# Get the lengths of all lists in the dictionary\n",
    "list_sizes = [len(v) for v in filtered_kegg.values()]\n",
    "\n",
    "# Calculate the median, max, and min sizes\n",
    "median_size = np.median(list_sizes)\n",
    "max_size = np.max(list_sizes)\n",
    "min_size = np.min(list_sizes)"
   ]
  },
  {
   "cell_type": "code",
   "execution_count": 38,
   "id": "62bda63c",
   "metadata": {},
   "outputs": [
    {
     "data": {
      "text/plain": [
       "344"
      ]
     },
     "execution_count": 38,
     "metadata": {},
     "output_type": "execute_result"
    }
   ],
   "source": [
    "len(filtered_kegg)"
   ]
  },
  {
   "cell_type": "code",
   "execution_count": 35,
   "id": "441a2815",
   "metadata": {},
   "outputs": [
    {
     "data": {
      "text/plain": [
       "85.0"
      ]
     },
     "execution_count": 35,
     "metadata": {},
     "output_type": "execute_result"
    }
   ],
   "source": [
    "median_size"
   ]
  },
  {
   "cell_type": "code",
   "execution_count": 36,
   "id": "645216b1",
   "metadata": {},
   "outputs": [
    {
     "data": {
      "text/plain": [
       "1212"
      ]
     },
     "execution_count": 36,
     "metadata": {},
     "output_type": "execute_result"
    }
   ],
   "source": [
    "max_size"
   ]
  },
  {
   "cell_type": "code",
   "execution_count": 37,
   "id": "9c88e287",
   "metadata": {},
   "outputs": [
    {
     "data": {
      "text/plain": [
       "2"
      ]
     },
     "execution_count": 37,
     "metadata": {},
     "output_type": "execute_result"
    }
   ],
   "source": [
    "min_size"
   ]
  },
  {
   "cell_type": "code",
   "execution_count": 39,
   "id": "cf630cb2",
   "metadata": {},
   "outputs": [],
   "source": [
    "with open('../pathway_computations/cellchatdb.pickle', 'rb') as handle:\n",
    "    cellchatdb = pickle.load(handle)\n",
    "with open('../pathway_computations/cd40neighbors_full.pickle', 'rb') as handle:\n",
    "    cd40neighbors = pickle.load(handle)\n",
    "\n",
    "with open('../pathway_computations/random_neighbors_full.pickle', 'rb') as handle:\n",
    "    random_neighbors = pickle.load(handle)\n",
    "\n",
    "with open('../pathway_computations/humanbase_cd40neighbors.pickle', 'rb') as handle:\n",
    "    humanbase_cd40neighbors = pickle.load(handle)\n",
    "\n",
    "with open('../pathway_computations/humanbase_mac_sweep.pickle', 'rb') as handle:\n",
    "    humanbase_mac_sweep = pickle.load(handle)\n",
    "\n",
    "with open('../pathway_computations/humanbase_dc_sweep.pickle', 'rb') as handle:\n",
    "    humanbase_dc_sweep = pickle.load(handle)\n",
    "\n",
    "with open('../pathway_computations/humanbase_p_sweep.pickle', 'rb') as handle:\n",
    "    humanbase_p_sweep = pickle.load(handle)\n",
    "\n",
    "with open('../pathway_computations/from_genesets_nn.pickle', 'rb') as handle:\n",
    "    from_genesets = pickle.load(handle)\n",
    "\n",
    "with open('../pathway_computations/to_genesets_nn.pickle', 'rb') as handle:\n",
    "    to_genesets = pickle.load(handle)\n",
    "\n",
    "with open('../pathway_computations/cd40_filtered.pickle', 'rb') as handle:\n",
    "    cd40_filtered_genesets = pickle.load(handle)\n",
    "\n",
    "with open('../pathway_computations/combined_cellchatdb_nn_signaling.pickle', 'rb') as handle:\n",
    "    combined_c_n = pickle.load(handle)"
   ]
  },
  {
   "cell_type": "code",
   "execution_count": 51,
   "id": "6f8e54ed",
   "metadata": {},
   "outputs": [],
   "source": [
    "with open('../pathway_computations/combined_cellchatdb_nn_signaling_relaxed.pickle', 'rb') as handle:\n",
    "    combined_c_n_relaxed = pickle.load(handle)"
   ]
  },
  {
   "cell_type": "code",
   "execution_count": 44,
   "id": "20a5cc5c",
   "metadata": {},
   "outputs": [
    {
     "data": {
      "text/plain": [
       "87"
      ]
     },
     "execution_count": 44,
     "metadata": {},
     "output_type": "execute_result"
    }
   ],
   "source": [
    "len(to_genesets['to_Itgae'])"
   ]
  },
  {
   "cell_type": "code",
   "execution_count": 42,
   "id": "42e52c35",
   "metadata": {},
   "outputs": [
    {
     "data": {
      "text/plain": [
       "77"
      ]
     },
     "execution_count": 42,
     "metadata": {},
     "output_type": "execute_result"
    }
   ],
   "source": [
    "len(cd40_filtered_genesets['cd40_f_in'])"
   ]
  },
  {
   "cell_type": "code",
   "execution_count": 46,
   "id": "acfeda5d",
   "metadata": {},
   "outputs": [
    {
     "data": {
      "text/plain": [
       "443"
      ]
     },
     "execution_count": 46,
     "metadata": {},
     "output_type": "execute_result"
    }
   ],
   "source": [
    "len(cellchatdb['ligrec'])"
   ]
  },
  {
   "cell_type": "code",
   "execution_count": 47,
   "id": "c059bb0b",
   "metadata": {},
   "outputs": [
    {
     "data": {
      "text/plain": [
       "306"
      ]
     },
     "execution_count": 47,
     "metadata": {},
     "output_type": "execute_result"
    }
   ],
   "source": [
    "len(combined_c_n['combined_c_n'])"
   ]
  },
  {
   "cell_type": "code",
   "execution_count": 48,
   "id": "3aa7e41b",
   "metadata": {},
   "outputs": [
    {
     "data": {
      "text/plain": [
       "1572"
      ]
     },
     "execution_count": 48,
     "metadata": {},
     "output_type": "execute_result"
    }
   ],
   "source": [
    "len(humanbase_dc_sweep['dc_0.4'])"
   ]
  },
  {
   "cell_type": "code",
   "execution_count": 49,
   "id": "20eb8ea6",
   "metadata": {},
   "outputs": [
    {
     "data": {
      "text/plain": [
       "979"
      ]
     },
     "execution_count": 49,
     "metadata": {},
     "output_type": "execute_result"
    }
   ],
   "source": [
    "len(humanbase_mac_sweep['mac_0.2'])"
   ]
  },
  {
   "cell_type": "code",
   "execution_count": 50,
   "id": "f43da4d5",
   "metadata": {},
   "outputs": [
    {
     "data": {
      "text/plain": [
       "218"
      ]
     },
     "execution_count": 50,
     "metadata": {},
     "output_type": "execute_result"
    }
   ],
   "source": [
    "len(humanbase_mac_sweep['mac_0.4'])"
   ]
  },
  {
   "cell_type": "code",
   "execution_count": 54,
   "id": "7f233975",
   "metadata": {},
   "outputs": [
    {
     "data": {
      "text/plain": [
       "508"
      ]
     },
     "execution_count": 54,
     "metadata": {},
     "output_type": "execute_result"
    }
   ],
   "source": [
    "len(combined_c_n_relaxed['combined_c_n_6'])"
   ]
  },
  {
   "cell_type": "code",
   "execution_count": null,
   "id": "77e1c993",
   "metadata": {},
   "outputs": [],
   "source": []
  }
 ],
 "metadata": {
  "kernelspec": {
   "display_name": "Python 3 (ipykernel)",
   "language": "python",
   "name": "python3"
  },
  "language_info": {
   "codemirror_mode": {
    "name": "ipython",
    "version": 3
   },
   "file_extension": ".py",
   "mimetype": "text/x-python",
   "name": "python",
   "nbconvert_exporter": "python",
   "pygments_lexer": "ipython3",
   "version": "3.9.16"
  }
 },
 "nbformat": 4,
 "nbformat_minor": 5
}
