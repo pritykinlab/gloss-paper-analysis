{
 "cells": [
  {
   "cell_type": "code",
   "execution_count": 1,
   "id": "a1dece00",
   "metadata": {},
   "outputs": [],
   "source": [
    "import pandas as pd\n",
    "import numpy as np\n",
    "import pickle"
   ]
  },
  {
   "cell_type": "code",
   "execution_count": 2,
   "id": "e9119662",
   "metadata": {},
   "outputs": [],
   "source": [
    "cellchat = pd.read_csv('../pathway_collections/cellchatdb_interaction.csv')"
   ]
  },
  {
   "cell_type": "code",
   "execution_count": 3,
   "id": "b06e5c63",
   "metadata": {},
   "outputs": [],
   "source": [
    "# what should the"
   ]
  },
  {
   "cell_type": "code",
   "execution_count": 4,
   "id": "2aff5985",
   "metadata": {},
   "outputs": [
    {
     "data": {
      "text/plain": [
       "array(['Secreted Signaling', 'ECM-Receptor', 'Cell-Cell Contact',\n",
       "       'Non-protein Signaling'], dtype=object)"
      ]
     },
     "execution_count": 4,
     "metadata": {},
     "output_type": "execute_result"
    }
   ],
   "source": [
    "cellchat.annotation.unique()"
   ]
  },
  {
   "cell_type": "code",
   "execution_count": 5,
   "id": "e5503bb2",
   "metadata": {},
   "outputs": [],
   "source": [
    "ligand = cellchat.loc[cellchat.annotation == 'Cell-Cell Contact']['ligand']"
   ]
  },
  {
   "cell_type": "code",
   "execution_count": 6,
   "id": "df96f52c",
   "metadata": {},
   "outputs": [],
   "source": [
    "receptor = cellchat.loc[cellchat.annotation == 'Cell-Cell Contact']['receptor']"
   ]
  },
  {
   "cell_type": "code",
   "execution_count": 7,
   "id": "fa6a1859",
   "metadata": {},
   "outputs": [],
   "source": [
    "ligand_list = []\n",
    "receptor_list = []"
   ]
  },
  {
   "cell_type": "code",
   "execution_count": 8,
   "id": "75942883",
   "metadata": {},
   "outputs": [],
   "source": [
    "for entry in ligand:\n",
    "    ligand_list.extend(entry.split('_'))\n",
    "ligand_list = [gene.capitalize() for gene in ligand_list]"
   ]
  },
  {
   "cell_type": "code",
   "execution_count": 9,
   "id": "3ec0b218",
   "metadata": {},
   "outputs": [],
   "source": [
    "for entry in receptor:\n",
    "    receptor_list.extend(entry.split('_'))\n",
    "receptor_list = [gene.capitalize() for gene in receptor_list]"
   ]
  },
  {
   "cell_type": "code",
   "execution_count": 10,
   "id": "7e9e7dd2",
   "metadata": {},
   "outputs": [],
   "source": [
    "ligand_set = set(ligand_list)"
   ]
  },
  {
   "cell_type": "code",
   "execution_count": 11,
   "id": "e4dc451b",
   "metadata": {},
   "outputs": [],
   "source": [
    "receptor_set = set(receptor_list)"
   ]
  },
  {
   "cell_type": "code",
   "execution_count": 12,
   "id": "bd1e1c20",
   "metadata": {},
   "outputs": [
    {
     "name": "stdout",
     "output_type": "stream",
     "text": [
      "290\n",
      "275\n"
     ]
    }
   ],
   "source": [
    "print(len(ligand_set))\n",
    "print(len(receptor_set))"
   ]
  },
  {
   "cell_type": "code",
   "execution_count": 13,
   "id": "db512ebe",
   "metadata": {},
   "outputs": [
    {
     "name": "stdout",
     "output_type": "stream",
     "text": [
      "443\n"
     ]
    }
   ],
   "source": [
    "print(len(ligand_set.union(receptor_set)))"
   ]
  },
  {
   "cell_type": "code",
   "execution_count": 14,
   "id": "5ad9cad3",
   "metadata": {},
   "outputs": [
    {
     "data": {
      "text/plain": [
       "{'Abca1',\n",
       " 'Adgra2',\n",
       " 'Adgrb1',\n",
       " 'Adgrb2',\n",
       " 'Adgrb3',\n",
       " 'Adgre5',\n",
       " 'Adgrg1',\n",
       " 'Adgrg6',\n",
       " 'Adgrl1',\n",
       " 'Adgrl2',\n",
       " 'Adgrl3',\n",
       " 'Adora1',\n",
       " 'Adora2a',\n",
       " 'Adora2b',\n",
       " 'Adora3',\n",
       " 'Alcam',\n",
       " 'Amn',\n",
       " 'Apobr',\n",
       " 'Cadm1',\n",
       " 'Cadm3',\n",
       " 'Cadm4',\n",
       " 'Cd177',\n",
       " 'Cd1d1',\n",
       " 'Cd1d2',\n",
       " 'Cd200r1',\n",
       " 'Cd200r1l',\n",
       " 'Cd200r2',\n",
       " 'Cd200r3',\n",
       " 'Cd200r4',\n",
       " 'Cd209a',\n",
       " 'Cd209b',\n",
       " 'Cd209c',\n",
       " 'Cd209d',\n",
       " 'Cd209e',\n",
       " 'Cd209f',\n",
       " 'Cd22',\n",
       " 'Cd226',\n",
       " 'Cd244a',\n",
       " 'Cd274',\n",
       " 'Cd28',\n",
       " 'Cd34',\n",
       " 'Cd38',\n",
       " 'Cd4',\n",
       " 'Cd40',\n",
       " 'Cd44',\n",
       " 'Cd47',\n",
       " 'Cd72',\n",
       " 'Cd74',\n",
       " 'Cd8 receptor',\n",
       " 'Cd8a',\n",
       " 'Cd8b1',\n",
       " 'Cd96',\n",
       " 'Cd99',\n",
       " 'Cdh1',\n",
       " 'Cdh15',\n",
       " 'Cdh2',\n",
       " 'Cdh3',\n",
       " 'Cdh4',\n",
       " 'Cdh5',\n",
       " 'Ceacam1',\n",
       " 'Ceacam2',\n",
       " 'Ceacam5',\n",
       " 'Cldn1',\n",
       " 'Cldn11',\n",
       " 'Cldn2',\n",
       " 'Cldn3',\n",
       " 'Clstn1',\n",
       " 'Clstn2',\n",
       " 'Clstn3',\n",
       " 'Cntn1',\n",
       " 'Cntn2',\n",
       " 'Cntnap1',\n",
       " 'Cntnap2',\n",
       " 'Cr2',\n",
       " 'Ctla4',\n",
       " 'Cubn',\n",
       " 'Dag1',\n",
       " 'Dcc',\n",
       " 'Dsc3',\n",
       " 'Dscam',\n",
       " 'Dsg1c',\n",
       " 'Dsg2',\n",
       " 'Dsg3',\n",
       " 'Dsg4',\n",
       " 'Egfr',\n",
       " 'Epb41l1',\n",
       " 'Epha1',\n",
       " 'Epha2',\n",
       " 'Epha3',\n",
       " 'Epha4',\n",
       " 'Epha5',\n",
       " 'Epha7',\n",
       " 'Epha8',\n",
       " 'Ephb1',\n",
       " 'Ephb2',\n",
       " 'Ephb3',\n",
       " 'Ephb4',\n",
       " 'Ephb6',\n",
       " 'Esam',\n",
       " 'F11r',\n",
       " 'Fgfr1',\n",
       " 'Flrt1',\n",
       " 'Flrt2',\n",
       " 'Flrt3',\n",
       " 'Gja1',\n",
       " 'Gja3',\n",
       " 'Gja5',\n",
       " 'Gja6',\n",
       " 'Gjc1',\n",
       " 'Glg1',\n",
       " 'Glycam1',\n",
       " 'Hcst',\n",
       " 'Icos',\n",
       " 'Igsf11',\n",
       " 'Itga1',\n",
       " 'Itga2',\n",
       " 'Itga3',\n",
       " 'Itga4',\n",
       " 'Itgad',\n",
       " 'Itgae',\n",
       " 'Itgal',\n",
       " 'Itgam',\n",
       " 'Itgav',\n",
       " 'Itgax',\n",
       " 'Itgb1',\n",
       " 'Itgb2',\n",
       " 'Itgb2l',\n",
       " 'Itgb3',\n",
       " 'Itgb7',\n",
       " 'Jag1',\n",
       " 'Jam2',\n",
       " 'Jam3',\n",
       " 'Kdr',\n",
       " 'Kir3dl1',\n",
       " 'Klra',\n",
       " 'Klrb1',\n",
       " 'Klrb1a',\n",
       " 'Klrb1b',\n",
       " 'Klrb1c',\n",
       " 'Klrb1f',\n",
       " 'Klrc1',\n",
       " 'Klrc2',\n",
       " 'Klrd1',\n",
       " 'Klrg1',\n",
       " 'Klrk1',\n",
       " 'L1cam',\n",
       " 'Lilrb4a',\n",
       " 'Lrrtm1',\n",
       " 'Lrrtm2',\n",
       " 'Lrrtm3',\n",
       " 'Lrrtm4',\n",
       " 'Madcam1',\n",
       " 'Mag',\n",
       " 'Mmp14',\n",
       " 'Mpz',\n",
       " 'Mpzl1',\n",
       " 'Mrc1',\n",
       " 'Ncam1',\n",
       " 'Ncam2',\n",
       " 'Nectin2',\n",
       " 'Nectin3',\n",
       " 'Nectin4',\n",
       " 'Negr1',\n",
       " 'Nkg2d',\n",
       " 'Nlgn1',\n",
       " 'Nlgn2',\n",
       " 'Nlgn3',\n",
       " 'Notch1',\n",
       " 'Notch2',\n",
       " 'Notch3',\n",
       " 'Notch4',\n",
       " 'Nrcam',\n",
       " 'Nrp1',\n",
       " 'Ntng1',\n",
       " 'Ntng2',\n",
       " 'Ntrk2',\n",
       " 'Ocln',\n",
       " 'Pcdha1',\n",
       " 'Pcdha10',\n",
       " 'Pcdha11',\n",
       " 'Pcdha12',\n",
       " 'Pcdha2',\n",
       " 'Pcdha3',\n",
       " 'Pcdha4',\n",
       " 'Pcdha4b',\n",
       " 'Pcdha5',\n",
       " 'Pcdha6',\n",
       " 'Pcdha7',\n",
       " 'Pcdha8',\n",
       " 'Pcdha9',\n",
       " 'Pcdhac1',\n",
       " 'Pcdhac2',\n",
       " 'Pcdhb1',\n",
       " 'Pcdhb10',\n",
       " 'Pcdhb11',\n",
       " 'Pcdhb12',\n",
       " 'Pcdhb13',\n",
       " 'Pcdhb15',\n",
       " 'Pcdhb16',\n",
       " 'Pcdhb17',\n",
       " 'Pcdhb18',\n",
       " 'Pcdhb19',\n",
       " 'Pcdhb2',\n",
       " 'Pcdhb20',\n",
       " 'Pcdhb21',\n",
       " 'Pcdhb22',\n",
       " 'Pcdhb3',\n",
       " 'Pcdhb4',\n",
       " 'Pcdhb5',\n",
       " 'Pcdhb6',\n",
       " 'Pcdhb7',\n",
       " 'Pcdhb8',\n",
       " 'Pcdhb9',\n",
       " 'Pcdhga1',\n",
       " 'Pcdhga10',\n",
       " 'Pcdhga11',\n",
       " 'Pcdhga12',\n",
       " 'Pcdhga2',\n",
       " 'Pcdhga3',\n",
       " 'Pcdhga4',\n",
       " 'Pcdhga5',\n",
       " 'Pcdhga6',\n",
       " 'Pcdhga7',\n",
       " 'Pcdhga8',\n",
       " 'Pcdhga9',\n",
       " 'Pcdhgb1',\n",
       " 'Pcdhgb2',\n",
       " 'Pcdhgb4',\n",
       " 'Pcdhgb5',\n",
       " 'Pcdhgb6',\n",
       " 'Pcdhgb7',\n",
       " 'Pcdhgb8',\n",
       " 'Pcdhgc3',\n",
       " 'Pcdhgc4',\n",
       " 'Pcdhgc5',\n",
       " 'Pdcd1',\n",
       " 'Pecam1',\n",
       " 'Pilra',\n",
       " 'Pilrb1',\n",
       " 'Pilrb2',\n",
       " 'Pira2',\n",
       " 'Plxna1',\n",
       " 'Plxna2',\n",
       " 'Plxna3',\n",
       " 'Plxna4',\n",
       " 'Plxnb1',\n",
       " 'Plxnb2',\n",
       " 'Plxnb3',\n",
       " 'Plxnc1',\n",
       " 'Podxl',\n",
       " 'Psg20',\n",
       " 'Ptprd',\n",
       " 'Ptprf',\n",
       " 'Ptprm',\n",
       " 'Ptprs',\n",
       " 'Pvr',\n",
       " 'Sele',\n",
       " 'Sell',\n",
       " 'Selp',\n",
       " 'Siglecg',\n",
       " 'Sorl1',\n",
       " 'Spn',\n",
       " 'Tigit',\n",
       " 'Timd2',\n",
       " 'Tmigd3',\n",
       " 'Tnfrsf14',\n",
       " 'Tnfrsf21',\n",
       " 'Trem2',\n",
       " 'Treml2',\n",
       " 'Tyrobp',\n",
       " 'Unc5a',\n",
       " 'Unc5b',\n",
       " 'Unc5c',\n",
       " 'Unc5d',\n",
       " 'Vcam1'}"
      ]
     },
     "execution_count": 14,
     "metadata": {},
     "output_type": "execute_result"
    }
   ],
   "source": [
    "receptor_set"
   ]
  },
  {
   "cell_type": "code",
   "execution_count": 15,
   "id": "2f698291",
   "metadata": {},
   "outputs": [],
   "source": [
    "cellchatdb = {\n",
    "    'ligands' : list(ligand_set),\n",
    "    'receptors' : list(receptor_set),\n",
    "    'ligrec' : list(receptor_set.union(ligand_set))\n",
    "}"
   ]
  },
  {
   "cell_type": "code",
   "execution_count": 16,
   "id": "d500fbe4",
   "metadata": {},
   "outputs": [],
   "source": [
    "with open('./cellchatdb.pickle', 'wb') as handle:\n",
    "    pickle.dump(cellchatdb, handle, protocol=4)"
   ]
  },
  {
   "cell_type": "code",
   "execution_count": null,
   "id": "531db937",
   "metadata": {},
   "outputs": [],
   "source": []
  }
 ],
 "metadata": {
  "kernelspec": {
   "display_name": "Python 3 (ipykernel)",
   "language": "python",
   "name": "python3"
  },
  "language_info": {
   "codemirror_mode": {
    "name": "ipython",
    "version": 3
   },
   "file_extension": ".py",
   "mimetype": "text/x-python",
   "name": "python",
   "nbconvert_exporter": "python",
   "pygments_lexer": "ipython3",
   "version": "3.9.16"
  }
 },
 "nbformat": 4,
 "nbformat_minor": 5
}
